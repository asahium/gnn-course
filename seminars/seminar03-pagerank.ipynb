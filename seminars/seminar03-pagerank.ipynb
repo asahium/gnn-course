{
 "cells": [
  {
   "cell_type": "markdown",
   "id": "better-wisdom",
   "metadata": {},
   "source": [
    "It is quite natural to consider the Internet as a **directed graph**, where **nodes** represent web pages and **edges** represent hyperlinks.  \n",
    "\n",
    "Suppose the Internet consists of only **4 pages**, and consider the following **web graph** as an example."
   ]
  },
  {
   "cell_type": "code",
   "execution_count": 1,
   "id": "acoustic-customer",
   "metadata": {
    "ExecuteTime": {
     "end_time": "2022-10-12T13:33:06.563270Z",
     "start_time": "2022-10-12T13:33:05.952919Z"
    }
   },
   "outputs": [
    {
     "data": {
      "image/png": "[encoded data removed]",
      "text/plain": [
       "<Figure size 640x480 with 1 Axes>"
      ]
     },
     "metadata": {},
     "output_type": "display_data"
    }
   ],
   "source": [
    "import networkx as nx\n",
    "\n",
    "G = nx.DiGraph()\n",
    "G.add_nodes_from([0, 1, 2, 3])\n",
    "G.add_edges_from([(1, 3), (3, 2), (2, 1), (1, 0), (0, 1)])\n",
    "nx.draw(G, with_labels=True)"
   ]
  },
  {
   "cell_type": "markdown",
   "id": "external-swiss",
   "metadata": {},
   "source": [
    "**Adjacency Matrix**"
   ]
  },
  {
   "cell_type": "code",
   "execution_count": 2,
   "id": "amber-polls",
   "metadata": {
    "ExecuteTime": {
     "end_time": "2022-10-12T13:33:09.232855Z",
     "start_time": "2022-10-12T13:33:09.225345Z"
    }
   },
   "outputs": [
    {
     "data": {
      "text/plain": [
       "array([[0, 1, 0, 0],\n",
       "       [1, 0, 1, 0],\n",
       "       [0, 0, 0, 1],\n",
       "       [0, 1, 0, 0]])"
      ]
     },
     "execution_count": 2,
     "metadata": {},
     "output_type": "execute_result"
    }
   ],
   "source": [
    "import numpy as np\n",
    "\n",
    "A = np.array(nx.adjacency_matrix(G).todense()).T\n",
    "A"
   ]
  },
  {
   "cell_type": "markdown",
   "id": "specified-environment",
   "metadata": {
    "ExecuteTime": {
     "end_time": "2022-10-12T09:34:13.336212Z",
     "start_time": "2022-10-12T09:34:13.313201Z"
    }
   },
   "source": [
    "**Degree Matrix**"
   ]
  },
  {
   "cell_type": "code",
   "execution_count": 3,
   "id": "faced-vault",
   "metadata": {
    "ExecuteTime": {
     "end_time": "2022-10-12T13:33:10.749206Z",
     "start_time": "2022-10-12T13:33:10.744737Z"
    }
   },
   "outputs": [
    {
     "data": {
      "text/plain": [
       "array([[1, 0, 0, 0],\n",
       "       [0, 2, 0, 0],\n",
       "       [0, 0, 1, 0],\n",
       "       [0, 0, 0, 1]])"
      ]
     },
     "execution_count": 3,
     "metadata": {},
     "output_type": "execute_result"
    }
   ],
   "source": [
    "degrees = [val//2 for (node, val) in G.degree()]\n",
    "D = np.diag(degrees)\n",
    "D"
   ]
  },
  {
   "cell_type": "markdown",
   "id": "compliant-curtis",
   "metadata": {},
   "source": [
    "This matrix represents the number of outgoing edges from each node. We normalize the adjacency matrix **A** by the degree of each node to obtain the **transition matrix M**, which represents the probability of transition at each node."
   ]
  },
  {
   "cell_type": "markdown",
   "id": "traditional-spirit",
   "metadata": {},
   "source": [
    "**Transition Matrix**  \n",
    "\n",
    "$$M = A D^{-1}$$"
   ]
  },
  {
   "cell_type": "code",
   "execution_count": 4,
   "id": "defined-officer",
   "metadata": {
    "ExecuteTime": {
     "end_time": "2022-10-12T13:33:13.932228Z",
     "start_time": "2022-10-12T13:33:13.919007Z"
    }
   },
   "outputs": [
    {
     "data": {
      "text/plain": [
       "array([[0. , 0.5, 0. , 0. ],\n",
       "       [1. , 0. , 1. , 0. ],\n",
       "       [0. , 0. , 0. , 1. ],\n",
       "       [0. , 0.5, 0. , 0. ]])"
      ]
     },
     "execution_count": 4,
     "metadata": {},
     "output_type": "execute_result"
    }
   ],
   "source": [
    "M = A @ np.linalg.inv(D)\n",
    "M"
   ]
  },
  {
   "cell_type": "code",
   "execution_count": 5,
   "id": "objective-madness",
   "metadata": {
    "ExecuteTime": {
     "end_time": "2022-10-12T13:21:39.684390Z",
     "start_time": "2022-10-12T13:21:39.681084Z"
    }
   },
   "outputs": [],
   "source": [
    "def calculate_transition_matrix(G):\n",
    "    A = np.array(nx.adjacency_matrix(G).todense()).T\n",
    "    degrees = [val//2 for (node, val) in G.degree()]\n",
    "    D = np.diag(degrees)\n",
    "    M = A @ np.linalg.inv(D)\n",
    "    return M"
   ]
  },
  {
   "cell_type": "markdown",
   "id": "dense-palestinian",
   "metadata": {},
   "source": [
    "Each column of **M** satisfies the **axioms of probability** (for each column, all elements are **non-negative**, and the **sum equals 1**)."
   ]
  },
  {
   "cell_type": "markdown",
   "id": "wrapped-dryer",
   "metadata": {},
   "source": [
    "### Random Surfer \n",
    "\n",
    "Consider a **random user** who explores the Internet by simply clicking on hyperlinks on the current page **at random**.  \n",
    "\n",
    "For example, if the random visitor is on **page 2**, the next page could be **page 0 or page 3** with a **50-50 probability**.  \n",
    "\n",
    "#### How often does this random visitor land on each page?\n",
    "Let **$v$** be the **probability distribution** over the 4 pages, initialized as a **uniform distribution**.  \n",
    "\n",
    "We can find the answer by **iteratively multiplying the transition matrix $M$ from the left**:\n",
    "\n",
    "$$v_{k+1} = M v_k$$\n",
    "\n",
    "This represents a **Markov chain**, where after multiple iterations, the distribution **converges to a steady-state probability**."
   ]
  },
  {
   "cell_type": "code",
   "execution_count": 6,
   "id": "golden-relationship",
   "metadata": {
    "ExecuteTime": {
     "end_time": "2022-10-12T13:35:50.129383Z",
     "start_time": "2022-10-12T13:35:50.122316Z"
    }
   },
   "outputs": [
    {
     "data": {
      "text/plain": [
       "array([0.25, 0.25, 0.25, 0.25])"
      ]
     },
     "execution_count": 6,
     "metadata": {},
     "output_type": "execute_result"
    }
   ],
   "source": [
    "initial = np.ones(len(G.nodes())) / len(G.nodes())\n",
    "\n",
    "initial"
   ]
  },
  {
   "cell_type": "code",
   "execution_count": 7,
   "id": "thrown-gasoline",
   "metadata": {
    "ExecuteTime": {
     "end_time": "2022-10-12T13:37:04.747928Z",
     "start_time": "2022-10-12T13:37:04.697965Z"
    },
    "scrolled": true
   },
   "outputs": [
    {
     "name": "stdout",
     "output_type": "stream",
     "text": [
      "0 [0.25 0.25 0.25 0.25]\n",
      "1 [0.125 0.5   0.25  0.125]\n",
      "2 [0.25  0.375 0.125 0.25 ]\n",
      "3 [0.188 0.375 0.25  0.188]\n",
      "4 [0.188 0.438 0.188 0.188]\n",
      "5 [0.219 0.375 0.188 0.219]\n",
      "6 [0.188 0.406 0.219 0.188]\n",
      "7 [0.203 0.406 0.188 0.203]\n",
      "8 [0.203 0.391 0.203 0.203]\n",
      "9 [0.195 0.406 0.203 0.195]\n",
      "10 [0.203 0.398 0.195 0.203]\n",
      "11 [0.199 0.398 0.203 0.199]\n",
      "12 [0.199 0.402 0.199 0.199]\n",
      "13 [0.201 0.398 0.199 0.201]\n",
      "14 [0.199 0.4   0.201 0.199]\n",
      "15 [0.2   0.4   0.199 0.2  ]\n",
      "16 [0.2   0.399 0.2   0.2  ]\n",
      "17 [0.2 0.4 0.2 0.2]\n",
      "18 [0.2 0.4 0.2 0.2]\n",
      "19 [0.2 0.4 0.2 0.2]\n",
      "20 [0.2 0.4 0.2 0.2]\n",
      "21 [0.2 0.4 0.2 0.2]\n",
      "22 [0.2 0.4 0.2 0.2]\n",
      "23 [0.2 0.4 0.2 0.2]\n",
      "24 [0.2 0.4 0.2 0.2]\n",
      "25 [0.2 0.4 0.2 0.2]\n",
      "26 [0.2 0.4 0.2 0.2]\n",
      "27 [0.2 0.4 0.2 0.2]\n",
      "28 [0.2 0.4 0.2 0.2]\n",
      "29 [0.2 0.4 0.2 0.2]\n",
      "30 [0.2 0.4 0.2 0.2]\n",
      "31 [0.2 0.4 0.2 0.2]\n",
      "32 [0.2 0.4 0.2 0.2]\n",
      "33 [0.2 0.4 0.2 0.2]\n",
      "34 [0.2 0.4 0.2 0.2]\n",
      "35 [0.2 0.4 0.2 0.2]\n",
      "36 [0.2 0.4 0.2 0.2]\n",
      "37 [0.2 0.4 0.2 0.2]\n",
      "38 [0.2 0.4 0.2 0.2]\n",
      "39 [0.2 0.4 0.2 0.2]\n",
      "40 [0.2 0.4 0.2 0.2]\n",
      "41 [0.2 0.4 0.2 0.2]\n",
      "42 [0.2 0.4 0.2 0.2]\n",
      "43 [0.2 0.4 0.2 0.2]\n",
      "44 [0.2 0.4 0.2 0.2]\n",
      "45 [0.2 0.4 0.2 0.2]\n",
      "46 [0.2 0.4 0.2 0.2]\n",
      "47 [0.2 0.4 0.2 0.2]\n",
      "48 [0.2 0.4 0.2 0.2]\n",
      "49 [0.2 0.4 0.2 0.2]\n"
     ]
    }
   ],
   "source": [
    "initial = np.ones(len(G.nodes())) / len(G.nodes())\n",
    "print(0, initial)\n",
    "for i in range(1, 50):\n",
    "    initial = M @ initial\n",
    "    print(i, np.round(initial, 3))"
   ]
  },
  {
   "cell_type": "code",
   "execution_count": 9,
   "id": "00f3a88c-daac-427b-8ddc-57afdeb6f709",
   "metadata": {},
   "outputs": [
    {
     "data": {
      "image/png": "[encoded data removed]",
      "text/plain": [
       "<Figure size 640x480 with 1 Axes>"
      ]
     },
     "metadata": {},
     "output_type": "display_data"
    }
   ],
   "source": [
    "nx.draw(G, with_labels=True)"
   ]
  },
  {
   "cell_type": "markdown",
   "id": "bigger-mercury",
   "metadata": {
    "ExecuteTime": {
     "end_time": "2022-10-12T09:49:00.200664Z",
     "start_time": "2022-10-12T09:49:00.193464Z"
    }
   },
   "source": [
    "Finally, we have reached the answer. The **random user** visits **page 1 for 40% of the time** and **pages 0, 2, and 3 for 20% of the time** each.  \n",
    "\n",
    "This **final probability distribution** is called **PageRank** (some technical details are provided below) and serves as a **measure of importance** for web pages."
   ]
  },
  {
   "cell_type": "markdown",
   "id": "stable-interface",
   "metadata": {},
   "source": [
    "Note that the **iterative multiplication** described above **converges** to the steady-state **PageRank vector** $v$.  \n",
    "\n",
    "This is equivalent to computing the **eigenvector corresponding to the eigenvalue 1** using the **power iteration method** (a.k.a. **power iteration**)."
   ]
  },
  {
   "cell_type": "markdown",
   "id": "durable-drove",
   "metadata": {},
   "source": [
    "To understand what is happening, let's also calculate **PageRank manually**."
   ]
  },
  {
   "cell_type": "code",
   "execution_count": 10,
   "id": "permanent-statement",
   "metadata": {
    "ExecuteTime": {
     "end_time": "2022-10-12T13:40:53.116381Z",
     "start_time": "2022-10-12T13:40:53.094810Z"
    }
   },
   "outputs": [],
   "source": [
    "def initialize_node_points(G):\n",
    "    initial = [1 / G.number_of_nodes() for _ in range(G.number_of_nodes())]\n",
    "    return G, initial\n",
    "\n",
    "\n",
    "iteration_counter = 0\n",
    "def update_node_points(G, previous_node_points):\n",
    "    global iteration_counter\n",
    "    iteration_counter += 1\n",
    "    updated_node_points = [0 for _ in range(G.number_of_nodes())]\n",
    "    for node in G.nodes():\n",
    "        node_references = G.out_edges(node)\n",
    "        if len(node_references) == 0:\n",
    "            updated_node_points[node] += previous_node_points[node]\n",
    "        else:\n",
    "            share = previous_node_points[node] / len(node_references)\n",
    "            for each_reference in node_references:\n",
    "                updated_node_points[each_reference[1]] += share\n",
    "    return updated_node_points, iteration_counter\n",
    "\n",
    "\n",
    "def keep_updating_until_convergence(G, initial_node_points):\n",
    "    convergence_value = 0.00001\n",
    "    previous_node_points = initial_node_points\n",
    "    while True:\n",
    "        updated_node_points, iteration_counter = update_node_points(G, previous_node_points)\n",
    "        for index in range(G.number_of_nodes()):\n",
    "            if abs(updated_node_points[index] - previous_node_points[index]) > convergence_value:\n",
    "                break\n",
    "        else:\n",
    "            return updated_node_points, iteration_counter\n",
    "        previous_node_points = updated_node_points"
   ]
  },
  {
   "cell_type": "code",
   "execution_count": 11,
   "id": "informal-sphere",
   "metadata": {
    "ExecuteTime": {
     "end_time": "2022-10-12T13:40:53.647781Z",
     "start_time": "2022-10-12T13:40:53.528619Z"
    }
   },
   "outputs": [
    {
     "data": {
      "image/png": "[encoded data removed]",
      "text/plain": [
       "<Figure size 640x480 with 1 Axes>"
      ]
     },
     "metadata": {},
     "output_type": "display_data"
    }
   ],
   "source": [
    "G = nx.DiGraph()\n",
    "nodes = [i for i in range(0, 5)]\n",
    "edges = [(0,1), (1,2), (1,3), (2,1), (3,0), (3,2), (3,4), (4,0)]\n",
    "G.add_nodes_from(nodes)\n",
    "G.add_edges_from(edges)\n",
    "nx.draw(G, with_labels=True)"
   ]
  },
  {
   "cell_type": "code",
   "execution_count": 12,
   "id": "facial-stevens",
   "metadata": {
    "ExecuteTime": {
     "end_time": "2022-10-12T13:41:04.594279Z",
     "start_time": "2022-10-12T13:41:04.586008Z"
    }
   },
   "outputs": [
    {
     "name": "stdout",
     "output_type": "stream",
     "text": [
      "Iteration counter: 21\n",
      "Pageranks: [0.1250008  0.3749975  0.25000085 0.1875021  0.06249875]\n"
     ]
    }
   ],
   "source": [
    "G, initial_node_points = initialize_node_points(G)\n",
    "pageranks, iteration_counter = keep_updating_until_convergence(G, initial_node_points)\n",
    "pageranks_array = np.array(pageranks)\n",
    "\n",
    "\n",
    "print('Iteration counter:', iteration_counter)\n",
    "print('Pageranks:', pageranks_array)"
   ]
  },
  {
   "cell_type": "markdown",
   "id": "recovered-parts",
   "metadata": {},
   "source": [
    "## Problems with the Approach"
   ]
  },
  {
   "cell_type": "markdown",
   "id": "conscious-bulgaria",
   "metadata": {},
   "source": [
    "### Dangling Nodes"
   ]
  },
  {
   "cell_type": "code",
   "execution_count": 13,
   "id": "unlimited-account",
   "metadata": {
    "ExecuteTime": {
     "end_time": "2022-10-12T13:45:34.830063Z",
     "start_time": "2022-10-12T13:45:34.705405Z"
    }
   },
   "outputs": [
    {
     "data": {
      "image/png": "[encoded data removed]",
      "text/plain": [
       "<Figure size 640x480 with 1 Axes>"
      ]
     },
     "metadata": {},
     "output_type": "display_data"
    }
   ],
   "source": [
    "G = nx.DiGraph()\n",
    "G.add_nodes_from([0, 1, 2, 3])\n",
    "G.add_edges_from([(1, 3), (3, 2), (2, 1), (1, 0)])\n",
    "nx.draw(G, with_labels=True)"
   ]
  },
  {
   "cell_type": "markdown",
   "id": "incomplete-harvey",
   "metadata": {
    "ExecuteTime": {
     "end_time": "2022-10-12T09:58:46.767250Z",
     "start_time": "2022-10-12T09:58:46.761084Z"
    }
   },
   "source": [
    "**Dangling nodes** trap the **random visitor**, causing the **PageRank of other pages to become zero**.  \n",
    "\n",
    "To prevent this, we **add virtual edges** from these nodes to **all other nodes**. With this adjustment, the **random surfer** who gets stuck at a **dangling node** can randomly jump to other pages.  \n",
    "\n",
    "The updated **transition matrix** for the given graph is:\n",
    "$$M = \\begin{pmatrix}\n",
    "0 & 1/2 & 0 & 0\\\\\n",
    "1/3 & 0 & 1 & 0\\\\\n",
    "1/3 & 0 & 0 & 1\\\\\n",
    "1/3 & 1/2 & 0 & 0\\\\\n",
    "\\end{pmatrix}$$"
   ]
  },
  {
   "cell_type": "markdown",
   "id": "accompanied-cholesterol",
   "metadata": {},
   "source": [
    "### Isolated Graph Components"
   ]
  },
  {
   "cell_type": "code",
   "execution_count": 14,
   "id": "grateful-botswana",
   "metadata": {
    "ExecuteTime": {
     "end_time": "2022-10-12T13:48:12.157750Z",
     "start_time": "2022-10-12T13:48:12.062424Z"
    }
   },
   "outputs": [
    {
     "data": {
      "image/png": "[encoded data removed]",
      "text/plain": [
       "<Figure size 640x480 with 1 Axes>"
      ]
     },
     "metadata": {},
     "output_type": "display_data"
    }
   ],
   "source": [
    "G = nx.DiGraph()\n",
    "G.add_nodes_from([0, 1, 2, 3, 4])\n",
    "G.add_edges_from([(0, 1), (1, 0), (0, 2), (2, 0), (1, 2), (2, 1), (4, 3), (3, 4)])\n",
    "nx.draw(G, with_labels=True)"
   ]
  },
  {
   "cell_type": "markdown",
   "id": "cordless-lighting",
   "metadata": {},
   "source": [
    "In such cases, the **transition matrix** is **block-diagonal** and has **multiple linearly independent eigenvectors** corresponding to the **eigenvalue 1**."
   ]
  },
  {
   "cell_type": "code",
   "execution_count": 15,
   "id": "crude-edmonton",
   "metadata": {
    "ExecuteTime": {
     "end_time": "2022-10-12T13:48:13.836471Z",
     "start_time": "2022-10-12T13:48:13.794641Z"
    }
   },
   "outputs": [
    {
     "data": {
      "text/plain": [
       "array([[0. , 0.5, 0.5, 0. , 0. ],\n",
       "       [0.5, 0. , 0.5, 0. , 0. ],\n",
       "       [0.5, 0.5, 0. , 0. , 0. ],\n",
       "       [0. , 0. , 0. , 0. , 1. ],\n",
       "       [0. , 0. , 0. , 1. , 0. ]])"
      ]
     },
     "execution_count": 15,
     "metadata": {},
     "output_type": "execute_result"
    }
   ],
   "source": [
    "calculate_transition_matrix(G)"
   ]
  },
  {
   "cell_type": "markdown",
   "id": "understanding-workplace",
   "metadata": {},
   "source": [
    "To solve this problem, the creators of **PageRank** introduced the **damping factor** $d$:\n",
    "\n",
    "$$M = (1-d)M + \\frac{d}{n}J_n$$\n",
    "\n",
    "where:  \n",
    "- $n$ is the number of nodes,  \n",
    "- $J_n$ is a **matrix of ones**.  \n",
    "\n",
    "This **reformulated transition matrix** is also called the **Google Matrix**.  \n",
    "\n",
    "### Why is the Google Matrix Important?\n",
    "- It ensures that **all nodes remain connected**, making **PageRank vectors unique** for web graphs.  \n",
    "- It **prevents infinite loops** in cyclic surfing, which would make the **power method** ineffective.  \n",
    "- **Intuition:** The **damping factor** allows a **bored random surfer** to **jump to a random page** with probability $d$."
   ]
  },
  {
   "cell_type": "markdown",
   "id": "detailed-shopping",
   "metadata": {},
   "source": [
    "### Questions\n",
    "\n",
    "Above, we stated that the **iterative calculation of PageRank** is equivalent to computing the **eigenvector corresponding to the eigenvalue 1**. However, some questions arise:  \n",
    "\n",
    "1. **Does the Google transition matrix always have eigenvalue 1 with multiplicity one?**  \n",
    "2. **Does the iterative calculation always converge to a unique vector?**  \n",
    "3. **How fast does the convergence occur?**  "
   ]
  },
  {
   "cell_type": "markdown",
   "id": "desperate-agent",
   "metadata": {},
   "source": [
    "#### Perron–Frobenius Theorem\n",
    "\n",
    "From the [theorem](https://ru.wikipedia.org/wiki/%D0%A2%D0%B5%D0%BE%D1%80%D0%B5%D0%BC%D0%B0_%D0%A4%D1%80%D0%BE%D0%B1%D0%B5%D0%BD%D0%B8%D1%83%D1%81%D0%B0_%E2%80%94_%D0%9F%D0%B5%D1%80%D1%80%D0%BE%D0%BD%D0%B0), since the matrix **M** is **positive** and **column-stochastic**, it follows that:\n",
    "\n",
    "1. **M has eigenvalue 1 with multiplicity one.**  \n",
    "2. **1 is the largest eigenvalue**: all other eigenvalues have absolute values less than 1.  \n",
    "3. **For eigenvalue 1, there exists a unique eigenvector whose elements sum to 1.**  \n",
    "\n",
    "A proof can be found [here](https://sites.math.northwestern.edu/~clark/354/2002/perron.pdf).  \n",
    "\n",
    "These statements indicate that there exists a **unique eigenvector** for eigenvalue **1**, with elements summing to **1**.  \n",
    "\n",
    "**In simple terms**, to compute **PageRank**, we only need to find the **eigenvector** corresponding to **eigenvalue 1**."
   ]
  },
  {
   "cell_type": "markdown",
   "id": "swiss-facility",
   "metadata": {},
   "source": [
    "### Power Method\n",
    "\n",
    "The **Power Method** is a **numerical algorithm** used to compute the **eigenvalue with the largest magnitude** and its corresponding **eigenvector**.  \n",
    "\n",
    "We know that the **largest eigenvalue of the Google matrix $M$ is 1**, so the **Power Method** is straightforward:  \n",
    "- Simply **iteratively multiply** $M$ by any **initial vector**.  \n",
    "\n",
    "Denoting the **largest eigenvalue** and the **second-largest eigenvalue (by magnitude)** as $\\lambda_1$ and $\\lambda_2$, respectively, the **rate of convergence** is given by:\n",
    "\n",
    "$$\\left| \\frac{\\lambda_2}{\\lambda_1} \\right| = |\\lambda_2|$$\n",
    "\n",
    "This determines **how quickly** the method **converges to the PageRank vector**."
   ]
  },
  {
   "cell_type": "markdown",
   "id": "chronic-clinton",
   "metadata": {},
   "source": [
    "### Implementation"
   ]
  },
  {
   "cell_type": "markdown",
   "id": "muslim-auckland",
   "metadata": {},
   "source": [
    "That concludes the **theoretical part** of **PageRank**.  \n",
    "\n",
    "**PageRank** can be computed in two ways:  \n",
    "1. **Eigen decomposition method**  \n",
    "2. **Power method**"
   ]
  },
  {
   "cell_type": "code",
   "execution_count": 13,
   "id": "greek-fireplace",
   "metadata": {
    "ExecuteTime": {
     "end_time": "2022-10-12T13:21:40.099215Z",
     "start_time": "2022-10-12T13:21:40.088397Z"
    }
   },
   "outputs": [],
   "source": [
    "import networkx as nx\n",
    "import numpy as np\n",
    "\n",
    "\n",
    "def get_google_matrix(G, d=0.15):\n",
    "    n = G.number_of_nodes()\n",
    "    A = nx.to_numpy_array(G).T\n",
    "    # for sink nodes\n",
    "    is_sink = np.sum(A, axis=0)==0\n",
    "    B = (np.ones_like(A) - np.identity(n)) / (n-1)\n",
    "    A[:, is_sink] += B[:, is_sink]\n",
    "    \n",
    "    D_inv = np.diag(1/np.sum(A, axis=0))\n",
    "    M = np.dot(A, D_inv) \n",
    "    \n",
    "    # for disconnected components\n",
    "    M = (1-d)*M + d*np.ones((n,n))/n\n",
    "    return M\n",
    "\n",
    "def l1(x):\n",
    "    return np.sum(np.abs(x))"
   ]
  },
  {
   "cell_type": "markdown",
   "id": "turkish-hearts",
   "metadata": {},
   "source": [
    "The first solution is **eigen decomposition** of the **Google matrix**.  \n",
    "\n",
    "The **L1-normalized eigenvector** corresponding to the **largest eigenvalue** (=1) is the **PageRank vector**."
   ]
  },
  {
   "cell_type": "code",
   "execution_count": 38,
   "id": "suspected-offense",
   "metadata": {
    "ExecuteTime": {
     "end_time": "2022-10-12T13:58:16.292522Z",
     "start_time": "2022-10-12T13:58:16.283609Z"
    }
   },
   "outputs": [],
   "source": [
    "def pagerank_edc(G, d=0.15):\n",
    "    M = get_google_matrix(G, d=d)\n",
    "    eigenvalues, eigenvectors = np.linalg.eig(M)\n",
    "    idx = eigenvalues.argsort()[-1]\n",
    "    largest = np.array(eigenvectors[:,idx]).flatten().real\n",
    "    return largest / l1(largest)"
   ]
  },
  {
   "cell_type": "code",
   "execution_count": 39,
   "id": "supreme-geneva",
   "metadata": {
    "ExecuteTime": {
     "end_time": "2022-10-12T13:58:16.569568Z",
     "start_time": "2022-10-12T13:58:16.558931Z"
    }
   },
   "outputs": [
    {
     "data": {
      "text/plain": [
       "array([0.20195025, 0.38694178, 0.20915772, 0.20195025])"
      ]
     },
     "execution_count": 39,
     "metadata": {},
     "output_type": "execute_result"
    }
   ],
   "source": [
    "import networkx as nx\n",
    "\n",
    "G = nx.DiGraph()\n",
    "G.add_nodes_from([0, 1, 2, 3])\n",
    "G.add_edges_from([(1, 3), (3, 2), (2, 1), (1, 0), (0, 1)])\n",
    "pagerank_edc(G)"
   ]
  },
  {
   "cell_type": "markdown",
   "id": "accepted-bulletin",
   "metadata": {},
   "source": [
    "### What is the complexity of the algorithm?\n",
    "\n",
    "The **time complexity** is **$O(n^3)$**, since **eigen decomposition** is a computationally expensive operation.  \n",
    "\n",
    "For a graph with **more than a trillion nodes** (web pages), this solution becomes **too costly** to compute efficiently."
   ]
  },
  {
   "cell_type": "markdown",
   "id": "operational-trigger",
   "metadata": {},
   "source": [
    "### Power Method\n",
    "\n",
    "The method initializes $v_0$ as a **uniform distribution** and **iteratively multiplies** the **Google matrix** until it **converges** or reaches the **maximum number of iterations**."
   ]
  },
  {
   "cell_type": "code",
   "execution_count": 37,
   "id": "flexible-mayor",
   "metadata": {
    "ExecuteTime": {
     "end_time": "2022-10-12T13:58:14.091082Z",
     "start_time": "2022-10-12T13:58:14.063147Z"
    }
   },
   "outputs": [],
   "source": [
    "def pagerank_power(G, d=0.15, max_iter=100, eps=1e-9):\n",
    "    M = get_google_matrix(G, d=d)\n",
    "    n = G.number_of_nodes()\n",
    "    V = np.ones(n)/n\n",
    "    for _ in range(max_iter):\n",
    "        V_last = V\n",
    "        V = np.dot(M, V)\n",
    "        if  l1(V - V_last) / n < eps:\n",
    "            return V\n",
    "    return V"
   ]
  },
  {
   "cell_type": "code",
   "execution_count": 48,
   "id": "shared-league",
   "metadata": {
    "ExecuteTime": {
     "end_time": "2022-10-12T14:11:55.808822Z",
     "start_time": "2022-10-12T14:11:55.707579Z"
    }
   },
   "outputs": [
    {
     "data": {
      "image/png": "[encoded data removed]",
      "text/plain": [
       "<Figure size 432x288 with 1 Axes>"
      ]
     },
     "metadata": {},
     "output_type": "display_data"
    }
   ],
   "source": [
    "G = nx.DiGraph()\n",
    "G.add_nodes_from([0, 1, 2, 3, 4])\n",
    "G.add_edges_from([(0, 1), (1, 0), (0, 2), (2, 0), (1, 2), (2, 1), (3, 4)])\n",
    "nx.draw(G, with_labels=True)"
   ]
  },
  {
   "cell_type": "code",
   "execution_count": 49,
   "id": "random-danish",
   "metadata": {
    "ExecuteTime": {
     "end_time": "2022-10-12T14:11:58.995709Z",
     "start_time": "2022-10-12T14:11:58.989033Z"
    }
   },
   "outputs": [
    {
     "data": {
      "text/plain": [
       "array([0.29595728, 0.29595728, 0.29595728, 0.04439359, 0.06773455])"
      ]
     },
     "execution_count": 49,
     "metadata": {},
     "output_type": "execute_result"
    }
   ],
   "source": [
    "pagerank_power(G)"
   ]
  },
  {
   "cell_type": "markdown",
   "id": "whole-tumor",
   "metadata": {},
   "source": [
    "Regarding **complexity**, the most computationally expensive part of this algorithm is **matrix-vector multiplication**since the number of iterations is limited by **max_iter**.  \n",
    "\n",
    "- Therefore, the **time complexity** is **$O(n^2)$**.  \n",
    "- This can be further **optimized to $O(n)$** using **sparse matrix multiplication**.  \n",
    "\n",
    "**Reminder:**  \n",
    "The **Google matrix** is a **weighted sum** of:  \n",
    "1. The **transition matrix** (**sparse!**)  \n",
    "2. The **matrix of ones** (a simple summation operator)."
   ]
  },
  {
   "cell_type": "code",
   "execution_count": 40,
   "id": "close-drain",
   "metadata": {
    "ExecuteTime": {
     "end_time": "2022-10-12T14:01:21.114139Z",
     "start_time": "2022-10-12T14:01:21.104886Z"
    }
   },
   "outputs": [],
   "source": [
    "def gen_webgraph(n, m):\n",
    "    G = nx.DiGraph(nx.barabasi_albert_graph(n,m))\n",
    "    rands = np.random.choice(n, n//2, replace=False)\n",
    "    G.remove_edges_from(np.array(G.edges)[rands])\n",
    "    return G"
   ]
  },
  {
   "cell_type": "code",
   "execution_count": 42,
   "id": "conscious-hours",
   "metadata": {
    "ExecuteTime": {
     "end_time": "2022-10-12T14:02:21.467695Z",
     "start_time": "2022-10-12T14:02:09.234237Z"
    }
   },
   "outputs": [],
   "source": [
    "import time\n",
    "\n",
    "\n",
    "number_of_nodes = range(100, 1600, 200)\n",
    "times_edc = []\n",
    "times_power = []\n",
    "for n in number_of_nodes:\n",
    "    G = gen_webgraph(n, 50)\n",
    "    \n",
    "    st = time.time()\n",
    "    pagerank_edc(G)\n",
    "    times_edc.append(time.time() - st)\n",
    "    \n",
    "    st = time.time()\n",
    "    pagerank_power(G)\n",
    "    times_power.append(time.time() - st)"
   ]
  },
  {
   "cell_type": "code",
   "execution_count": 43,
   "id": "absolute-philip",
   "metadata": {
    "ExecuteTime": {
     "end_time": "2022-10-12T14:02:21.645690Z",
     "start_time": "2022-10-12T14:02:21.493953Z"
    }
   },
   "outputs": [
    {
     "data": {
      "image/png": "[encoded data removed]",
      "text/plain": [
       "<Figure size 432x288 with 1 Axes>"
      ]
     },
     "metadata": {
      "needs_background": "light"
     },
     "output_type": "display_data"
    }
   ],
   "source": [
    "import matplotlib.pylab as plt\n",
    "\n",
    "\n",
    "plt.grid()\n",
    "plt.plot(list(number_of_nodes), times_edc, label='edc')\n",
    "plt.plot(list(number_of_nodes), times_power, label='power')\n",
    "plt.xlabel(\"number of nodes\")\n",
    "plt.ylabel(\"time [s]\")\n",
    "plt.legend()\n",
    "plt.show()"
   ]
  },
  {
   "cell_type": "markdown",
   "id": "acquired-sustainability",
   "metadata": {},
   "source": [
    "As we can see, the **power method** is **faster** than **eigen decomposition**, especially when we have a **large number of nodes**."
   ]
  },
  {
   "cell_type": "markdown",
   "id": "balanced-championship",
   "metadata": {},
   "source": [
    "There are some extensions, such as **Personalized PageRank**, which uses **user-biased distributions** instead of the **uniform distribution** $J_n$ for computing the **Google matrix**."
   ]
  },
  {
   "cell_type": "code",
   "execution_count": 20,
   "id": "individual-parker",
   "metadata": {
    "ExecuteTime": {
     "end_time": "2022-10-12T13:21:59.625489Z",
     "start_time": "2022-10-12T13:21:59.619728Z"
    }
   },
   "outputs": [],
   "source": [
    "def pagerank_with_personalization(\n",
    "    G,\n",
    "    alpha=0.85,\n",
    "    personalization=None,\n",
    "    max_iter=100,\n",
    "    tol=1.0e-6,\n",
    "    nstart=None,\n",
    "    weight=\"weight\",\n",
    "    dangling=None\n",
    "):\n",
    "    if len(G) == 0:\n",
    "        return {}\n",
    "\n",
    "    D = G.to_directed()\n",
    "\n",
    "    # Create a copy in (right) stochastic form\n",
    "    W = nx.stochastic_graph(D, weight=weight)\n",
    "    N = W.number_of_nodes()\n",
    "\n",
    "    # Choose fixed starting vector if not given\n",
    "    if nstart is None:\n",
    "        x = dict.fromkeys(W, 1.0 / N)\n",
    "    else:\n",
    "        # Normalized nstart vector\n",
    "        s = sum(nstart.values())\n",
    "        x = {k: v / s for k, v in nstart.items()}\n",
    "\n",
    "    if personalization is None:\n",
    "        # Assign uniform personalization vector if not given\n",
    "        p = dict.fromkeys(W, 1.0 / N)\n",
    "    else:\n",
    "        s = sum(personalization.values())\n",
    "        p = {k: v / s for k, v in personalization.items()}\n",
    "\n",
    "    if dangling is None:\n",
    "        # Use personalization vector if dangling vector not specified\n",
    "        dangling_weights = p\n",
    "    else:\n",
    "        s = sum(dangling.values())\n",
    "        dangling_weights = {k: v / s for k, v in dangling.items()}\n",
    "    dangling_nodes = [n for n in W if W.out_degree(n, weight=weight) == 0.0]\n",
    "\n",
    "    # power iteration: make up to max_iter iterations\n",
    "    for _ in range(max_iter):\n",
    "        xlast = x\n",
    "        x = dict.fromkeys(xlast.keys(), 0)\n",
    "        danglesum = alpha * sum(xlast[n] for n in dangling_nodes)\n",
    "        for n in x:\n",
    "            # this matrix multiply looks odd because it is\n",
    "            # doing a left multiply x^T=xlast^T*W\n",
    "            for _, nbr, wt in W.edges(n, data=weight):\n",
    "                x[nbr] += alpha * xlast[n] * wt\n",
    "            x[n] += danglesum * dangling_weights.get(n, 0) + (1.0 - alpha) * p.get(n, 0)\n",
    "        # check convergence, l1 norm\n",
    "        err = sum(abs(x[n] - xlast[n]) for n in x)\n",
    "        if err < N * tol:\n",
    "            return x"
   ]
  },
  {
   "cell_type": "code",
   "execution_count": 45,
   "id": "explicit-bidding",
   "metadata": {
    "ExecuteTime": {
     "end_time": "2022-10-12T14:06:29.561503Z",
     "start_time": "2022-10-12T14:06:29.437608Z"
    }
   },
   "outputs": [
    {
     "data": {
      "text/plain": [
       "{0: 0.1724140124772394,\n",
       " 1: 0.3275859875227606,\n",
       " 2: 0.3275859875227606,\n",
       " 3: 0.1724140124772394}"
      ]
     },
     "execution_count": 45,
     "metadata": {},
     "output_type": "execute_result"
    },
    {
     "data": {
      "image/png": "[encoded data removed]",
      "text/plain": [
       "<Figure size 432x288 with 1 Axes>"
      ]
     },
     "metadata": {},
     "output_type": "display_data"
    }
   ],
   "source": [
    "G = nx.DiGraph(nx.path_graph(4))\n",
    "\n",
    "nx.draw(G, with_labels=True)\n",
    "nx.pagerank(G, alpha=0.9)"
   ]
  },
  {
   "cell_type": "code",
   "execution_count": null,
   "id": "assured-edgar",
   "metadata": {},
   "outputs": [],
   "source": []
  }
 ],
 "metadata": {
  "kernelspec": {
   "display_name": "Python 3 (ipykernel)",
   "language": "python",
   "name": "python3"
  },
  "language_info": {
   "codemirror_mode": {
    "name": "ipython",
    "version": 3
   },
   "file_extension": ".py",
   "mimetype": "text/x-python",
   "name": "python",
   "nbconvert_exporter": "python",
   "pygments_lexer": "ipython3",
   "version": "3.13.2"
  }
 },
 "nbformat": 4,
 "nbformat_minor": 5
}
