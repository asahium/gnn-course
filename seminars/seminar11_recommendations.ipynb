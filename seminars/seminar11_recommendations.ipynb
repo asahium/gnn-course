{
 "cells": [
  {
   "cell_type": "markdown",
   "id": "229f2b08",
   "metadata": {
    "id": "229f2b08"
   },
   "source": [
    "In this notebook, we will train a recommendation model on graphs using the [LightGCN](https://arxiv.org/abs/2002.02126) architecture.\n",
    "We will use the [MovieLens](https://grouplens.org/datasets/movielens/) (*small*) dataset, which contains 100,000 ratings applied to 9,000 movies and 600 users.\n"
   ]
  },
  {
   "cell_type": "markdown",
   "id": "45b301e4",
   "metadata": {
    "id": "45b301e4"
   },
   "source": [
    "A good way to visualize interactions in a recommender system is to use a bipartite graph, with users and items (in this case, movies) as nodes, and edges between them indicating user–item interactions. Such an interaction could be a positive rating by a user, a product purchase, or a video view. The graph will be bipartite because users may be interested in items, but items and users cannot be interested in other items or users, respectively.\n"
   ]
  },
  {
   "cell_type": "code",
   "execution_count": 1,
   "id": "a9894fc3",
   "metadata": {
    "colab": {
     "base_uri": "https://localhost:8080/"
    },
    "id": "a9894fc3",
    "outputId": "e5115596-09fd-47b5-ed6a-2e1e4b200311"
   },
   "outputs": [
    {
     "name": "stdout",
     "output_type": "stream",
     "text": [
      "\u001b[33mWARNING: Skipping torch-scatter as it is not installed.\u001b[0m\u001b[33m\n",
      "\u001b[0m\u001b[33mWARNING: Skipping torch-sparse as it is not installed.\u001b[0m\u001b[33m\n",
      "\u001b[0m\u001b[33mWARNING: Skipping torch-geometric as it is not installed.\u001b[0m\u001b[33m\n",
      "\u001b[0m\u001b[33mWARNING: Skipping torch-cluster as it is not installed.\u001b[0m\u001b[33m\n",
      "\u001b[0mLooking in links: https://data.pyg.org/whl/torch-2.6.0+cu124.html\n",
      "Collecting torch-scatter\n",
      "  Downloading https://data.pyg.org/whl/torch-2.6.0%2Bcu124/torch_scatter-2.1.2%2Bpt26cu124-cp311-cp311-linux_x86_64.whl (10.8 MB)\n",
      "\u001b[2K     \u001b[90m━━━━━━━━━━━━━━━━━━━━━━━━━━━━━━━━━━━━━━━━\u001b[0m \u001b[32m10.8/10.8 MB\u001b[0m \u001b[31m61.9 MB/s\u001b[0m eta \u001b[36m0:00:00\u001b[0m\n",
      "\u001b[?25hInstalling collected packages: torch-scatter\n",
      "Successfully installed torch-scatter-2.1.2+pt26cu124\n",
      "Looking in links: https://data.pyg.org/whl/torch-2.6.0+cu124.html\n",
      "Collecting torch-sparse\n",
      "  Downloading https://data.pyg.org/whl/torch-2.6.0%2Bcu124/torch_sparse-0.6.18%2Bpt26cu124-cp311-cp311-linux_x86_64.whl (5.0 MB)\n",
      "\u001b[2K     \u001b[90m━━━━━━━━━━━━━━━━━━━━━━━━━━━━━━━━━━━━━━━━\u001b[0m \u001b[32m5.0/5.0 MB\u001b[0m \u001b[31m73.9 MB/s\u001b[0m eta \u001b[36m0:00:00\u001b[0m\n",
      "\u001b[?25hRequirement already satisfied: scipy in /usr/local/lib/python3.11/dist-packages (from torch-sparse) (1.15.2)\n",
      "Requirement already satisfied: numpy<2.5,>=1.23.5 in /usr/local/lib/python3.11/dist-packages (from scipy->torch-sparse) (2.0.2)\n",
      "Installing collected packages: torch-sparse\n",
      "Successfully installed torch-sparse-0.6.18+pt26cu124\n",
      "Looking in links: https://data.pyg.org/whl/torch-2.6.0+cu124.html\n",
      "Collecting torch-cluster\n",
      "  Downloading https://data.pyg.org/whl/torch-2.6.0%2Bcu124/torch_cluster-1.6.3%2Bpt26cu124-cp311-cp311-linux_x86_64.whl (3.4 MB)\n",
      "\u001b[2K     \u001b[90m━━━━━━━━━━━━━━━━━━━━━━━━━━━━━━━━━━━━━━━━\u001b[0m \u001b[32m3.4/3.4 MB\u001b[0m \u001b[31m48.1 MB/s\u001b[0m eta \u001b[36m0:00:00\u001b[0m\n",
      "\u001b[?25hRequirement already satisfied: scipy in /usr/local/lib/python3.11/dist-packages (from torch-cluster) (1.15.2)\n",
      "Requirement already satisfied: numpy<2.5,>=1.23.5 in /usr/local/lib/python3.11/dist-packages (from scipy->torch-cluster) (2.0.2)\n",
      "Installing collected packages: torch-cluster\n",
      "Successfully installed torch-cluster-1.6.3+pt26cu124\n",
      "Collecting git+https://github.com/pyg-team/pytorch_geometric.git\n",
      "  Cloning https://github.com/pyg-team/pytorch_geometric.git to /tmp/pip-req-build-n7hj2nvg\n",
      "  Running command git clone --filter=blob:none --quiet https://github.com/pyg-team/pytorch_geometric.git /tmp/pip-req-build-n7hj2nvg\n",
      "  Resolved https://github.com/pyg-team/pytorch_geometric.git to commit 36aed7c28140a54f27aea6c2429636ff0d1c84b8\n",
      "  Installing build dependencies ... \u001b[?25l\u001b[?25hdone\n",
      "  Getting requirements to build wheel ... \u001b[?25l\u001b[?25hdone\n",
      "  Preparing metadata (pyproject.toml) ... \u001b[?25l\u001b[?25hdone\n",
      "Requirement already satisfied: aiohttp in /usr/local/lib/python3.11/dist-packages (from torch-geometric==2.7.0) (3.11.15)\n",
      "Requirement already satisfied: fsspec in /usr/local/lib/python3.11/dist-packages (from torch-geometric==2.7.0) (2025.3.2)\n",
      "Requirement already satisfied: jinja2 in /usr/local/lib/python3.11/dist-packages (from torch-geometric==2.7.0) (3.1.6)\n",
      "Requirement already satisfied: numpy in /usr/local/lib/python3.11/dist-packages (from torch-geometric==2.7.0) (2.0.2)\n",
      "Requirement already satisfied: psutil>=5.8.0 in /usr/local/lib/python3.11/dist-packages (from torch-geometric==2.7.0) (5.9.5)\n",
      "Requirement already satisfied: pyparsing in /usr/local/lib/python3.11/dist-packages (from torch-geometric==2.7.0) (3.2.3)\n",
      "Requirement already satisfied: requests in /usr/local/lib/python3.11/dist-packages (from torch-geometric==2.7.0) (2.32.3)\n",
      "Requirement already satisfied: tqdm in /usr/local/lib/python3.11/dist-packages (from torch-geometric==2.7.0) (4.67.1)\n",
      "Requirement already satisfied: xxhash in /usr/local/lib/python3.11/dist-packages (from torch-geometric==2.7.0) (3.5.0)\n",
      "Requirement already satisfied: aiohappyeyeballs>=2.3.0 in /usr/local/lib/python3.11/dist-packages (from aiohttp->torch-geometric==2.7.0) (2.6.1)\n",
      "Requirement already satisfied: aiosignal>=1.1.2 in /usr/local/lib/python3.11/dist-packages (from aiohttp->torch-geometric==2.7.0) (1.3.2)\n",
      "Requirement already satisfied: attrs>=17.3.0 in /usr/local/lib/python3.11/dist-packages (from aiohttp->torch-geometric==2.7.0) (25.3.0)\n",
      "Requirement already satisfied: frozenlist>=1.1.1 in /usr/local/lib/python3.11/dist-packages (from aiohttp->torch-geometric==2.7.0) (1.6.0)\n",
      "Requirement already satisfied: multidict<7.0,>=4.5 in /usr/local/lib/python3.11/dist-packages (from aiohttp->torch-geometric==2.7.0) (6.4.3)\n",
      "Requirement already satisfied: propcache>=0.2.0 in /usr/local/lib/python3.11/dist-packages (from aiohttp->torch-geometric==2.7.0) (0.3.1)\n",
      "Requirement already satisfied: yarl<2.0,>=1.17.0 in /usr/local/lib/python3.11/dist-packages (from aiohttp->torch-geometric==2.7.0) (1.20.0)\n",
      "Requirement already satisfied: MarkupSafe>=2.0 in /usr/local/lib/python3.11/dist-packages (from jinja2->torch-geometric==2.7.0) (3.0.2)\n",
      "Requirement already satisfied: charset-normalizer<4,>=2 in /usr/local/lib/python3.11/dist-packages (from requests->torch-geometric==2.7.0) (3.4.2)\n",
      "Requirement already satisfied: idna<4,>=2.5 in /usr/local/lib/python3.11/dist-packages (from requests->torch-geometric==2.7.0) (3.10)\n",
      "Requirement already satisfied: urllib3<3,>=1.21.1 in /usr/local/lib/python3.11/dist-packages (from requests->torch-geometric==2.7.0) (2.4.0)\n",
      "Requirement already satisfied: certifi>=2017.4.17 in /usr/local/lib/python3.11/dist-packages (from requests->torch-geometric==2.7.0) (2025.4.26)\n",
      "Building wheels for collected packages: torch-geometric\n",
      "  Building wheel for torch-geometric (pyproject.toml) ... \u001b[?25l\u001b[?25hdone\n",
      "  Created wheel for torch-geometric: filename=torch_geometric-2.7.0-py3-none-any.whl size=1206610 sha256=dda63d40b3fbfde92f528648f80e059df0bdae3a9ffc798ab43ee0030065f5cd\n",
      "  Stored in directory: /tmp/pip-ephem-wheel-cache-alqm_d0y/wheels/93/bb/85/bfec4ee59b2563f74ec87cc2c91c6a4d3e40d3dcdec8ee5afe\n",
      "Successfully built torch-geometric\n",
      "Installing collected packages: torch-geometric\n",
      "Successfully installed torch-geometric-2.7.0\n"
     ]
    }
   ],
   "source": [
    "import torch\n",
    "\n",
    "!pip uninstall torch-scatter torch-sparse torch-geometric torch-cluster  --y\n",
    "!pip install torch-scatter -f https://data.pyg.org/whl/torch-{torch.__version__}.html\n",
    "!pip install torch-sparse -f https://data.pyg.org/whl/torch-{torch.__version__}.html\n",
    "!pip install torch-cluster -f https://data.pyg.org/whl/torch-{torch.__version__}.html\n",
    "!pip install git+https://github.com/pyg-team/pytorch_geometric.git"
   ]
  },
  {
   "cell_type": "code",
   "execution_count": 2,
   "id": "e22fb422",
   "metadata": {
    "ExecuteTime": {
     "end_time": "2022-12-01T16:53:20.530544Z",
     "start_time": "2022-12-01T16:53:18.441219Z"
    },
    "id": "e22fb422"
   },
   "outputs": [],
   "source": [
    "import random\n",
    "from tqdm import tqdm\n",
    "import pandas as pd\n",
    "import numpy as np\n",
    "import matplotlib.pyplot as plt\n",
    "from sklearn.model_selection import train_test_split\n",
    "\n",
    "import torch\n",
    "from torch import nn, optim, Tensor\n",
    "\n",
    "from torch_sparse import SparseTensor, matmul\n",
    "\n",
    "from torch_geometric.utils import structured_negative_sampling\n",
    "from torch_geometric.data import download_url, extract_zip\n",
    "from torch_geometric.nn.conv.gcn_conv import gcn_norm\n",
    "from torch_geometric.nn.conv import MessagePassing\n",
    "from torch_geometric.typing import Adj"
   ]
  },
  {
   "cell_type": "code",
   "execution_count": 3,
   "id": "e50b03dc",
   "metadata": {
    "ExecuteTime": {
     "end_time": "2022-12-01T16:53:20.752351Z",
     "start_time": "2022-12-01T16:53:20.531611Z"
    },
    "colab": {
     "base_uri": "https://localhost:8080/",
     "height": 516
    },
    "id": "e50b03dc",
    "outputId": "92bcc086-7567-4ec9-fd7f-a3266944359f"
   },
   "outputs": [
    {
     "data": {
      "image/png": "[encoded data removed]",
      "text/plain": [
       "<Figure size 640x480 with 1 Axes>"
      ]
     },
     "metadata": {},
     "output_type": "display_data"
    }
   ],
   "source": [
    "import networkx as nx\n",
    "\n",
    "\n",
    "B = nx.Graph()\n",
    "B.add_nodes_from([1,2,3,4], bipartite=0)\n",
    "B.add_nodes_from(['a','b','c'], bipartite=1)\n",
    "B.add_edges_from([(1,'a'), (1,'b'), (2,'b'), (2,'c'), (3,'c'), (4,'a')])\n",
    "\n",
    "l, r = nx.bipartite.sets(B)\n",
    "pos = {}\n",
    "\n",
    "pos.update((node, (1, index)) for index, node in enumerate(l))\n",
    "pos.update((node, (2, index)) for index, node in enumerate(r))\n",
    "\n",
    "nx.draw(B, pos=pos)\n",
    "plt.show()"
   ]
  },
  {
   "cell_type": "code",
   "execution_count": 4,
   "id": "172b83cc",
   "metadata": {
    "ExecuteTime": {
     "end_time": "2022-12-01T16:53:52.659124Z",
     "start_time": "2022-12-01T16:53:52.625782Z"
    },
    "colab": {
     "base_uri": "https://localhost:8080/"
    },
    "id": "172b83cc",
    "outputId": "6d70514c-5267-4b31-b2a3-87b2dbbde49e"
   },
   "outputs": [
    {
     "name": "stderr",
     "output_type": "stream",
     "text": [
      "Downloading https://files.grouplens.org/datasets/movielens/ml-latest-small.zip\n",
      "Extracting ./ml-latest-small.zip\n"
     ]
    }
   ],
   "source": [
    "# download the dataset\n",
    "url = 'https://files.grouplens.org/datasets/movielens/ml-latest-small.zip'\n",
    "extract_zip(download_url(url, '.'), '.')\n",
    "\n",
    "movie_path = './ml-latest-small/movies.csv'\n",
    "rating_path = './ml-latest-small/ratings.csv'"
   ]
  },
  {
   "cell_type": "code",
   "execution_count": 5,
   "id": "a3f8a579",
   "metadata": {
    "ExecuteTime": {
     "end_time": "2022-12-01T16:55:06.984320Z",
     "start_time": "2022-12-01T16:55:06.940037Z"
    },
    "id": "a3f8a579"
   },
   "outputs": [],
   "source": [
    "# load user and movie nodes\n",
    "def load_node_csv(path, index_col):\n",
    "    \"\"\"Loads csv containing node information\n",
    "\n",
    "    Args:\n",
    "        path (str): path to csv file\n",
    "        index_col (str): column name of index column\n",
    "\n",
    "    Returns:\n",
    "        dict: mapping of csv row to node id\n",
    "    \"\"\"\n",
    "    df = pd.read_csv(path, index_col=index_col)\n",
    "    mapping = {index: i for i, index in enumerate(df.index.unique())}\n",
    "    return mapping\n",
    "\n",
    "\n",
    "user_mapping = load_node_csv(rating_path, index_col='userId')\n",
    "movie_mapping = load_node_csv(movie_path, index_col='movieId')"
   ]
  },
  {
   "cell_type": "code",
   "execution_count": 6,
   "id": "33928055",
   "metadata": {
    "ExecuteTime": {
     "end_time": "2022-12-01T16:55:25.574076Z",
     "start_time": "2022-12-01T16:55:25.355842Z"
    },
    "id": "33928055"
   },
   "outputs": [],
   "source": [
    "# load edges between users and movies\n",
    "def load_edge_csv(path, src_index_col, src_mapping, dst_index_col, dst_mapping, link_index_col, rating_threshold=4):\n",
    "    \"\"\"Loads csv containing edges between users and items\n",
    "\n",
    "    Args:\n",
    "        path (str): path to csv file\n",
    "        src_index_col (str): column name of users\n",
    "        src_mapping (dict): mapping between row number and user id\n",
    "        dst_index_col (str): column name of items\n",
    "        dst_mapping (dict): mapping between row number and item id\n",
    "        link_index_col (str): column name of user item interaction\n",
    "        rating_threshold (int, optional): Threshold to determine positivity of edge. Defaults to 4.\n",
    "\n",
    "    Returns:\n",
    "        torch.Tensor: 2 by N matrix containing the node ids of N user-item edges\n",
    "    \"\"\"\n",
    "    df = pd.read_csv(path)\n",
    "    edge_index = None\n",
    "    src = [src_mapping[index] for index in df[src_index_col]]\n",
    "    dst = [dst_mapping[index] for index in df[dst_index_col]]\n",
    "    edge_attr = torch.from_numpy(df[link_index_col].values).view(-1, 1).to(torch.long) >= rating_threshold\n",
    "\n",
    "\n",
    "    edge_index = [[], []]\n",
    "    for i in range(edge_attr.shape[0]):\n",
    "        if edge_attr[i]:\n",
    "            edge_index[0].append(src[i])\n",
    "            edge_index[1].append(dst[i])\n",
    "\n",
    "    return torch.tensor(edge_index)\n",
    "\n",
    "\n",
    "edge_index = load_edge_csv(\n",
    "    rating_path,\n",
    "    src_index_col='userId',\n",
    "    src_mapping=user_mapping,\n",
    "    dst_index_col='movieId',\n",
    "    dst_mapping=movie_mapping,\n",
    "    link_index_col='rating',\n",
    "    rating_threshold=3,\n",
    ")"
   ]
  },
  {
   "cell_type": "code",
   "execution_count": 7,
   "id": "98f0edbe",
   "metadata": {
    "ExecuteTime": {
     "end_time": "2022-12-01T16:59:26.687686Z",
     "start_time": "2022-12-01T16:59:26.676436Z"
    },
    "colab": {
     "base_uri": "https://localhost:8080/"
    },
    "id": "98f0edbe",
    "outputId": "96e27a80-c9fc-44b8-be98-6545253ac9cd"
   },
   "outputs": [
    {
     "data": {
      "text/plain": [
       "tensor([[   0,    0,    0,  ...,  609,  609,  609],\n",
       "        [   0,    2,    5,  ..., 9462, 9463, 9503]])"
      ]
     },
     "execution_count": 7,
     "metadata": {},
     "output_type": "execute_result"
    }
   ],
   "source": [
    "edge_index"
   ]
  },
  {
   "cell_type": "code",
   "execution_count": 8,
   "id": "c7372026",
   "metadata": {
    "ExecuteTime": {
     "end_time": "2022-12-01T16:59:35.612622Z",
     "start_time": "2022-12-01T16:59:35.572947Z"
    },
    "id": "c7372026"
   },
   "outputs": [],
   "source": [
    "# split the edges of the graph using a 80/10/10 train/validation/test split\n",
    "num_users, num_movies = len(user_mapping), len(movie_mapping)\n",
    "num_interactions = edge_index.shape[1]\n",
    "all_indices = [i for i in range(num_interactions)]\n",
    "\n",
    "train_indices, test_indices = train_test_split(\n",
    "    all_indices, test_size=0.2, random_state=1)\n",
    "val_indices, test_indices = train_test_split(\n",
    "    test_indices, test_size=0.5, random_state=1)\n",
    "\n",
    "train_edge_index = edge_index[:, train_indices]\n",
    "val_edge_index = edge_index[:, val_indices]\n",
    "test_edge_index = edge_index[:, test_indices]"
   ]
  },
  {
   "cell_type": "code",
   "execution_count": 9,
   "id": "23da889f",
   "metadata": {
    "ExecuteTime": {
     "end_time": "2022-12-01T16:59:54.493672Z",
     "start_time": "2022-12-01T16:59:54.465590Z"
    },
    "id": "23da889f"
   },
   "outputs": [],
   "source": [
    "# convert edge indices into Sparse Tensors\n",
    "train_sparse_edge_index = SparseTensor(row=train_edge_index[0], col=train_edge_index[1], sparse_sizes=(\n",
    "    num_users + num_movies, num_users + num_movies))\n",
    "val_sparse_edge_index = SparseTensor(row=val_edge_index[0], col=val_edge_index[1], sparse_sizes=(\n",
    "    num_users + num_movies, num_users + num_movies))\n",
    "test_sparse_edge_index = SparseTensor(row=test_edge_index[0], col=test_edge_index[1], sparse_sizes=(\n",
    "    num_users + num_movies, num_users + num_movies))"
   ]
  },
  {
   "cell_type": "code",
   "execution_count": 10,
   "id": "b743974e",
   "metadata": {
    "ExecuteTime": {
     "end_time": "2022-12-01T17:13:10.462369Z",
     "start_time": "2022-12-01T17:13:10.450624Z"
    },
    "id": "b743974e"
   },
   "outputs": [],
   "source": [
    "# function which random samples a mini-batch of positive and negative samples\n",
    "def sample_mini_batch(batch_size, edge_index):\n",
    "    \"\"\"Randomly samples indices of a minibatch given an adjacency matrix\n",
    "\n",
    "    Args:\n",
    "        batch_size (int): minibatch size\n",
    "        edge_index (torch.Tensor): 2 by N list of edges\n",
    "\n",
    "    Returns:\n",
    "        tuple: user indices, positive item indices, negative item indices\n",
    "    \"\"\"\n",
    "    edges = structured_negative_sampling(edge_index)\n",
    "    edges = torch.stack(edges, dim=0)\n",
    "    indices = random.choices(\n",
    "        [i for i in range(edges[0].shape[0])], k=batch_size)\n",
    "    batch = edges[:, indices]\n",
    "    user_indices, pos_item_indices, neg_item_indices = batch[0], batch[1], batch[2]\n",
    "    return user_indices, pos_item_indices, neg_item_indices"
   ]
  },
  {
   "cell_type": "markdown",
   "id": "a4da1044",
   "metadata": {
    "id": "a4da1044"
   },
   "source": [
    "## LightGCN Implementation\n",
    "\n",
    "### Light Graph Convolution\n",
    "\n",
    "Between each layer of LightGCN, the following propagation rule is used for user and item embeddings:\n",
    "\n",
    "$$\n",
    "e_u^{(k+1)} = \\sum_{i \\in N_u} \\frac{1}{\\sqrt{|N_u|} \\sqrt{|N_i|}} e_i^{(k)} \\quad\\quad e_i^{(k+1)} = \\sum_{u \\in N_i} \\frac{1}{\\sqrt{|N_i|} \\sqrt{|N_u|}} e_u^{(k)}\n",
    "$$\n",
    "\n",
    "* $N_u$: the set of all neighbors of user $u$ (items liked by $u$)\n",
    "* $N_i$: the set of all neighbors of item $i$ (users who liked $i$)\n",
    "* $e_u^{(k)}$: user embedding at layer $k$\n",
    "* $e_i^{(k)}$: item embedding at layer $k$\n",
    "\n",
    "---\n",
    "\n",
    "### Layer Combination and Model Prediction\n",
    "\n",
    "The only trainable parameters in LightGCN are the layer-0 embeddings $e_u^{(0)}$ and $e_i^{(0)}$ for each user and item.\n",
    "We combine the embeddings obtained from each propagation layer to form the final embeddings for all users and items, $e_u$ and $e_i$, using the following equation:\n",
    "\n",
    "$$\n",
    "e_u = \\sum_{k=0}^{K} \\alpha_k e_u^{(k)} \\quad\\quad e_i = \\sum_{k=0}^{K} \\alpha_k e_i^{(k)}\n",
    "$$\n",
    "\n",
    "* $\\alpha_k$: a hyperparameter weighting the contribution of the $k$-th layer’s embedding to the final embedding\n",
    "\n",
    "The model prediction is obtained by taking the inner product of the final user and item embeddings:\n",
    "\n",
    "$$\n",
    "\\hat{y}_{ui} = e_u^\\top e_i\n",
    "$$\n",
    "\n",
    "---\n",
    "\n",
    "### Matrix Form\n",
    "\n",
    "$$\n",
    "E^{(K)} = \\alpha_0 E^{(0)} + \\alpha_1 \\tilde{A} E^{(0)} + \\alpha_2 \\tilde{A}^2 E^{(0)} + \\cdots + \\alpha_K \\tilde{A}^K E^{(0)}\n",
    "$$\n",
    "\n",
    "* $E^{(0)} \\in \\mathbb{R}^{(M + N) \\times T}$: the stacked initial item and user embeddings, where $M$, $N$, and $T$ denote the number of users, number of items, and embedding dimension, respectively\n",
    "* $\\tilde{A} = D^{-\\frac{1}{2}} A D^{-\\frac{1}{2}}$: symmetrically normalized adjacency matrix\n"
   ]
  },
  {
   "cell_type": "code",
   "execution_count": 11,
   "id": "5a7bfc32",
   "metadata": {
    "ExecuteTime": {
     "end_time": "2022-12-01T17:13:10.829112Z",
     "start_time": "2022-12-01T17:13:10.773588Z"
    },
    "id": "5a7bfc32"
   },
   "outputs": [],
   "source": [
    "# defines LightGCN model\n",
    "class LightGCN(MessagePassing):\n",
    "    \"\"\"LightGCN Model as proposed in https://arxiv.org/abs/2002.02126\"\"\"\n",
    "\n",
    "    def __init__(self, num_users, num_items, embedding_dim=64, K=3, add_self_loops=False):\n",
    "        \"\"\"Initializes LightGCN Model\n",
    "\n",
    "        Args:\n",
    "            num_users (int): Number of users\n",
    "            num_items (int): Number of items\n",
    "            embedding_dim (int, optional): Dimensionality of embeddings. Defaults to 8.\n",
    "            K (int, optional): Number of message passing layers. Defaults to 3.\n",
    "            add_self_loops (bool, optional): Whether to add self loops for message passing. Defaults to False.\n",
    "        \"\"\"\n",
    "        super().__init__()\n",
    "        self.num_users, self.num_items = num_users, num_items\n",
    "        self.embedding_dim, self.K = embedding_dim, K\n",
    "        self.add_self_loops = add_self_loops\n",
    "\n",
    "        self.users_emb = nn.Embedding(\n",
    "            num_embeddings=self.num_users, embedding_dim=self.embedding_dim) # e_u^0\n",
    "        self.items_emb = nn.Embedding(\n",
    "            num_embeddings=self.num_items, embedding_dim=self.embedding_dim) # e_i^0\n",
    "\n",
    "        nn.init.normal_(self.users_emb.weight, std=0.1)\n",
    "        nn.init.normal_(self.items_emb.weight, std=0.1)\n",
    "\n",
    "    def forward(self, edge_index: SparseTensor):\n",
    "        \"\"\"Forward propagation of LightGCN Model.\n",
    "\n",
    "        Args:\n",
    "            edge_index (SparseTensor): adjacency matrix\n",
    "\n",
    "        Returns:\n",
    "            tuple (Tensor): e_u_k, e_u_0, e_i_k, e_i_0\n",
    "        \"\"\"\n",
    "        # compute \\tilde{A}: symmetrically normalized adjacency matrix\n",
    "        edge_index_norm = gcn_norm(\n",
    "            edge_index, add_self_loops=self.add_self_loops)\n",
    "\n",
    "        emb_0 = torch.cat([self.users_emb.weight, self.items_emb.weight]) # E^0\n",
    "        embs = [emb_0]\n",
    "        emb_k = emb_0\n",
    "\n",
    "        # multi-scale diffusion\n",
    "        for i in range(self.K):\n",
    "            emb_k = self.propagate(edge_index_norm, x=emb_k)\n",
    "            embs.append(emb_k)\n",
    "\n",
    "        embs = torch.stack(embs, dim=1)\n",
    "        emb_final = torch.mean(embs, dim=1) # E^K\n",
    "\n",
    "        users_emb_final, items_emb_final = torch.split(\n",
    "            emb_final, [self.num_users, self.num_items]) # splits into e_u^K and e_i^K\n",
    "\n",
    "        # returns e_u^K, e_u^0, e_i^K, e_i^0\n",
    "        return users_emb_final, self.users_emb.weight, items_emb_final, self.items_emb.weight\n",
    "\n",
    "    def message(self, x_j: Tensor) -> Tensor:\n",
    "        return x_j\n",
    "\n",
    "    def message_and_aggregate(self, adj_t: SparseTensor, x: Tensor) -> Tensor:\n",
    "        # computes \\tilde{A} @ x\n",
    "        return matmul(adj_t, x)\n",
    "\n",
    "model = LightGCN(num_users, num_movies)"
   ]
  },
  {
   "cell_type": "markdown",
   "id": "045b3f25",
   "metadata": {
    "id": "045b3f25"
   },
   "source": [
    "## NGCF\n",
    "\n",
    "NGCF is an older architecture than LightGCN. LightGCN operates similarly to NGCF but removes the trainable linear layers, non-linear activation, and dropout.\n",
    "\n",
    "One NGCF layer updates the user and item embeddings as follows:\n",
    "\n",
    "$$\n",
    "e_{u}^{(k+1)} = \\sigma\\left(W_1 e_u^{(k)} + \\sum\\limits_{i \\in N_u} \\frac{1}{\\sqrt{|N_u|}\\sqrt{|N_i|}} \\left(W_1 e_i^{(k)} + W_2 (e_i^{(k)} \\odot e_u^{(k)}) \\right) \\right)\n",
    "$$\n",
    "\n",
    "$$\n",
    "e_{i}^{(k+1)} = \\sigma\\left(W_1 e_i^{(k)} + \\sum\\limits_{u \\in N_i} \\frac{1}{\\sqrt{|N_i|}\\sqrt{|N_u|}} \\left(W_1 e_u^{(k)} + W_2 (e_u^{(k)} \\odot e_i^{(k)}) \\right) \\right)\n",
    "$$\n",
    "\n",
    "Where:\n",
    "\n",
    "* $W_1, W_2$: learnable weight matrices\n",
    "* $\\sigma$: non-linear activation function (e.g., LeakyReLU)\n",
    "* $\\odot$: element-wise (Hadamard) product\n",
    "* $N_u$: neighbors of user $u$\n",
    "* $N_i$: neighbors of item $i$\n",
    "\n",
    "This formulation includes feature transformation and high-order interactions through element-wise products, which LightGCN explicitly removes to simplify the architecture.\n"
   ]
  },
  {
   "cell_type": "code",
   "execution_count": 12,
   "id": "d2de7994",
   "metadata": {
    "ExecuteTime": {
     "end_time": "2022-12-01T17:13:11.646848Z",
     "start_time": "2022-12-01T17:13:11.634508Z"
    },
    "id": "d2de7994"
   },
   "outputs": [],
   "source": [
    "class NGCFConv(MessagePassing):\n",
    "    def __init__(self, latent_dim, dropout, bias=True, **kwargs):\n",
    "        super(NGCFConv, self).__init__(aggr='add', **kwargs)\n",
    "\n",
    "        self.dropout = dropout\n",
    "\n",
    "        self.lin_1 = nn.Linear(latent_dim, latent_dim, bias=bias)\n",
    "        self.lin_2 = nn.Linear(latent_dim, latent_dim, bias=bias)\n",
    "\n",
    "        self.init_parameters()\n",
    "\n",
    "    def init_parameters(self):\n",
    "        nn.init.xavier_uniform_(self.lin_1.weight)\n",
    "        nn.init.xavier_uniform_(self.lin_2.weight)\n",
    "\n",
    "    def forward(self, x, edge_index):\n",
    "        # Compute normalization\n",
    "        from_, to_ = edge_index\n",
    "        deg = degree(to_, x.size(0), dtype=x.dtype)\n",
    "        deg_inv_sqrt = deg.pow(-0.5)\n",
    "        deg_inv_sqrt[deg_inv_sqrt == float('inf')] = 0\n",
    "        norm = deg_inv_sqrt[from_] * deg_inv_sqrt[to_]\n",
    "\n",
    "        # Start propagating messages\n",
    "        out = self.propagate(edge_index, x=(x, x), norm=norm)\n",
    "\n",
    "        # Perform update after aggregation\n",
    "        out += self.lin_1(x)\n",
    "        out = F.dropout(out, self.dropout, self.training)\n",
    "        return F.leaky_relu(out)\n",
    "\n",
    "    def message(self, x_j, x_i, norm):\n",
    "        return norm.view(-1, 1) * (self.lin_1(x_j) + self.lin_2(x_j * x_i))\n"
   ]
  },
  {
   "cell_type": "markdown",
   "id": "86c19d53",
   "metadata": {
    "id": "86c19d53"
   },
   "source": [
    "## Loss Function\n",
    "\n",
    "We will use the Bayesian Personalized Ranking (BPR) loss, a function that encourages the predicted scores of positive samples to be higher than those of negative samples for each user.\n",
    "\n",
    "$$\n",
    "L_{BPR} = -\\sum_{u = 1}^M \\sum_{i \\in N_u} \\sum_{j \\notin N_u} \\ln{\\sigma(\\hat{y}_{ui} - \\hat{y}_{uj})} + \\lambda ||E^{(0)}||^2\n",
    "$$\n",
    "\n",
    "* $\\hat{y}_{ui}$: predicted score for the positive sample\n",
    "* $\\hat{y}_{uj}$: predicted score for the negative sample\n",
    "* $\\lambda$: hyperparameter controlling the strength of L2 regularization on the initial embeddings $E^{(0)}$\n"
   ]
  },
  {
   "cell_type": "code",
   "execution_count": 13,
   "id": "4e11957e",
   "metadata": {
    "ExecuteTime": {
     "end_time": "2022-12-01T17:13:12.208408Z",
     "start_time": "2022-12-01T17:13:12.201644Z"
    },
    "id": "4e11957e"
   },
   "outputs": [],
   "source": [
    "def bpr_loss(users_emb_final, users_emb_0, pos_items_emb_final, pos_items_emb_0, neg_items_emb_final, neg_items_emb_0, lambda_val):\n",
    "    \"\"\"Bayesian Personalized Ranking Loss as described in https://arxiv.org/abs/1205.2618\n",
    "\n",
    "    Args:\n",
    "        users_emb_final (torch.Tensor): e_u_k\n",
    "        users_emb_0 (torch.Tensor): e_u_0\n",
    "        pos_items_emb_final (torch.Tensor): positive e_i_k\n",
    "        pos_items_emb_0 (torch.Tensor): positive e_i_0\n",
    "        neg_items_emb_final (torch.Tensor): negative e_i_k\n",
    "        neg_items_emb_0 (torch.Tensor): negative e_i_0\n",
    "        lambda_val (float): lambda value for regularization loss term\n",
    "\n",
    "    Returns:\n",
    "        torch.Tensor: scalar bpr loss value\n",
    "    \"\"\"\n",
    "    reg_loss = lambda_val * (users_emb_0.norm(2).pow(2) +\n",
    "                             pos_items_emb_0.norm(2).pow(2) +\n",
    "                             neg_items_emb_0.norm(2).pow(2)) # L2 loss\n",
    "\n",
    "    pos_scores = torch.mul(users_emb_final, pos_items_emb_final)\n",
    "    pos_scores = torch.sum(pos_scores, dim=-1) # predicted scores of positive samples\n",
    "    neg_scores = torch.mul(users_emb_final, neg_items_emb_final)\n",
    "    neg_scores = torch.sum(neg_scores, dim=-1) # predicted scores of negative samples\n",
    "\n",
    "    loss = -torch.mean(torch.nn.functional.softplus(pos_scores - neg_scores)) + reg_loss\n",
    "\n",
    "    return loss"
   ]
  },
  {
   "cell_type": "markdown",
   "id": "1ba38898",
   "metadata": {
    "id": "1ba38898"
   },
   "source": [
    "### Metrics\n",
    "\n",
    "$$\n",
    "\\text{Recall} = \\frac{TP}{TP + FN}\n",
    "$$\n",
    "\n",
    "$$\n",
    "\\text{Precision} = \\frac{TP}{TP + FP}\n",
    "$$\n",
    "\n",
    "**Discounted Cumulative Gain (DCG):**\n",
    "\n",
    "$$\n",
    "\\text{DCG}_p = \\sum_{i = 1}^p \\frac{2^{rel_i} - 1}{\\log_2{(i + 1)}}\n",
    "$$\n",
    "\n",
    "* $p$: specific rank position\n",
    "* $rel_i \\in \\{0, 1\\}$: ranked relevance of the result at position $i$\n",
    "\n",
    "**Ideal Discounted Cumulative Gain (IDCG):**\n",
    "\n",
    "$$\n",
    "\\text{IDCG}_p = \\sum_{i = 1}^{|REL_p|} \\frac{2^{rel_i} - 1}{\\log_2{(i + 1)}}\n",
    "$$\n",
    "\n",
    "* $|REL_p|$: list of elements sorted by their relevance up to position $p$\n",
    "\n",
    "**Normalized Discounted Cumulative Gain (nDCG):**\n",
    "\n",
    "$$\n",
    "\\text{nDCG}_p = \\frac{\\text{DCG}_p}{\\text{IDCG}_p}\n",
    "$$\n"
   ]
  },
  {
   "cell_type": "code",
   "execution_count": 14,
   "id": "4c876931",
   "metadata": {
    "ExecuteTime": {
     "end_time": "2022-12-01T17:13:17.638255Z",
     "start_time": "2022-12-01T17:13:17.621805Z"
    },
    "id": "4c876931"
   },
   "outputs": [],
   "source": [
    "# helper function to get N_u\n",
    "def get_user_positive_items(edge_index):\n",
    "    \"\"\"Generates dictionary of positive items for each user\n",
    "\n",
    "    Args:\n",
    "        edge_index (torch.Tensor): 2 by N list of edges\n",
    "\n",
    "    Returns:\n",
    "        dict: dictionary of positive items for each user\n",
    "    \"\"\"\n",
    "    user_pos_items = {}\n",
    "    for i in range(edge_index.shape[1]):\n",
    "        user = edge_index[0][i].item()\n",
    "        item = edge_index[1][i].item()\n",
    "        if user not in user_pos_items:\n",
    "            user_pos_items[user] = []\n",
    "        user_pos_items[user].append(item)\n",
    "    return user_pos_items\n",
    "\n",
    "# computes recall@K and precision@K\n",
    "def RecallPrecision_ATk(groundTruth, r, k):\n",
    "    \"\"\"Computers recall @ k and precision @ k\n",
    "\n",
    "    Args:\n",
    "        groundTruth (list): list of lists containing highly rated items of each user\n",
    "        r (list): list of lists indicating whether each top k item recommended to each user\n",
    "            is a top k ground truth item or not\n",
    "        k (intg): determines the top k items to compute precision and recall on\n",
    "\n",
    "    Returns:\n",
    "        tuple: recall @ k, precision @ k\n",
    "    \"\"\"\n",
    "    num_correct_pred = torch.sum(r, dim=-1)  # number of correctly predicted items per user\n",
    "    # number of items liked by each user in the test set\n",
    "    user_num_liked = torch.Tensor([len(groundTruth[i])\n",
    "                                  for i in range(len(groundTruth))])\n",
    "    recall = torch.mean(num_correct_pred / user_num_liked)\n",
    "    precision = torch.mean(num_correct_pred) / k\n",
    "    return recall.item(), precision.item()\n",
    "\n",
    "# computes NDCG@K\n",
    "def NDCGatK_r(groundTruth, r, k):\n",
    "    \"\"\"Computes Normalized Discounted Cumulative Gain (NDCG) @ k\n",
    "\n",
    "    Args:\n",
    "        groundTruth (list): list of lists containing highly rated items of each user\n",
    "        r (list): list of lists indicating whether each top k item recommended to each user\n",
    "            is a top k ground truth item or not\n",
    "        k (int): determines the top k items to compute ndcg on\n",
    "\n",
    "    Returns:\n",
    "        float: ndcg @ k\n",
    "    \"\"\"\n",
    "    assert len(r) == len(groundTruth)\n",
    "\n",
    "    test_matrix = torch.zeros((len(r), k))\n",
    "\n",
    "    for i, items in enumerate(groundTruth):\n",
    "        length = min(len(items), k)\n",
    "        test_matrix[i, :length] = 1\n",
    "    max_r = test_matrix\n",
    "    idcg = torch.sum(max_r * 1. / torch.log2(torch.arange(2, k + 2)), axis=1)\n",
    "    dcg = r * (1. / torch.log2(torch.arange(2, k + 2)))\n",
    "    dcg = torch.sum(dcg, axis=1)\n",
    "    idcg[idcg == 0.] = 1.\n",
    "    ndcg = dcg / idcg\n",
    "    ndcg[torch.isnan(ndcg)] = 0.\n",
    "    return torch.mean(ndcg).item()"
   ]
  },
  {
   "cell_type": "code",
   "execution_count": 15,
   "id": "5fad238e",
   "metadata": {
    "ExecuteTime": {
     "end_time": "2022-12-01T17:13:23.713832Z",
     "start_time": "2022-12-01T17:13:23.700749Z"
    },
    "id": "5fad238e"
   },
   "outputs": [],
   "source": [
    "# wrapper function to get evaluation metrics\n",
    "def get_metrics(model, edge_index, exclude_edge_indices, k):\n",
    "    \"\"\"Computes the evaluation metrics: recall, precision, and ndcg @ k\n",
    "\n",
    "    Args:\n",
    "        model (LighGCN): lightgcn model\n",
    "        edge_index (torch.Tensor): 2 by N list of edges for split to evaluate\n",
    "        exclude_edge_indices ([type]): 2 by N list of edges for split to discount from evaluation\n",
    "        k (int): determines the top k items to compute metrics on\n",
    "\n",
    "    Returns:\n",
    "        tuple: recall @ k, precision @ k, ndcg @ k\n",
    "    \"\"\"\n",
    "    user_embedding = model.users_emb.weight\n",
    "    item_embedding = model.items_emb.weight\n",
    "\n",
    "    # get ratings between every user and item - shape is num users x num movies\n",
    "    rating = torch.matmul(user_embedding, item_embedding.T)\n",
    "\n",
    "    for exclude_edge_index in exclude_edge_indices:\n",
    "        # gets all the positive items for each user from the edge index\n",
    "        user_pos_items = get_user_positive_items(exclude_edge_index)\n",
    "        # get coordinates of all edges to exclude\n",
    "        exclude_users = []\n",
    "        exclude_items = []\n",
    "        for user, items in user_pos_items.items():\n",
    "            exclude_users.extend([user] * len(items))\n",
    "            exclude_items.extend(items)\n",
    "\n",
    "        # set ratings of excluded edges to large negative value\n",
    "        rating[exclude_users, exclude_items] = -(1 << 10)\n",
    "\n",
    "    # get the top k recommended items for each user\n",
    "    _, top_K_items = torch.topk(rating, k=k)\n",
    "\n",
    "    # get all unique users in evaluated split\n",
    "    users = edge_index[0].unique()\n",
    "\n",
    "    test_user_pos_items = get_user_positive_items(edge_index)\n",
    "\n",
    "    # convert test user pos items dictionary into a list\n",
    "    test_user_pos_items_list = [\n",
    "        test_user_pos_items[user.item()] for user in users]\n",
    "\n",
    "    # determine the correctness of topk predictions\n",
    "    r = []\n",
    "    for user in users:\n",
    "        ground_truth_items = test_user_pos_items[user.item()]\n",
    "        label = list(map(lambda x: x in ground_truth_items, top_K_items[user]))\n",
    "        r.append(label)\n",
    "    r = torch.Tensor(np.array(r).astype('float'))\n",
    "\n",
    "    recall, precision = RecallPrecision_ATk(test_user_pos_items_list, r, k)\n",
    "    ndcg = NDCGatK_r(test_user_pos_items_list, r, k)\n",
    "\n",
    "    return recall, precision, ndcg"
   ]
  },
  {
   "cell_type": "code",
   "execution_count": 16,
   "id": "918c4f26",
   "metadata": {
    "ExecuteTime": {
     "end_time": "2022-12-01T17:13:33.778322Z",
     "start_time": "2022-12-01T17:13:33.765474Z"
    },
    "id": "918c4f26"
   },
   "outputs": [],
   "source": [
    "# wrapper function to evaluate model\n",
    "def evaluation(model, edge_index, sparse_edge_index, exclude_edge_indices, k, lambda_val):\n",
    "    \"\"\"Evaluates model loss and metrics including recall, precision, ndcg @ k\n",
    "\n",
    "    Args:\n",
    "        model (LighGCN): lightgcn model\n",
    "        edge_index (torch.Tensor): 2 by N list of edges for split to evaluate\n",
    "        sparse_edge_index (sparseTensor): sparse adjacency matrix for split to evaluate\n",
    "        exclude_edge_indices ([type]): 2 by N list of edges for split to discount from evaluation\n",
    "        k (int): determines the top k items to compute metrics on\n",
    "        lambda_val (float): determines lambda for bpr loss\n",
    "\n",
    "    Returns:\n",
    "        tuple: bpr loss, recall @ k, precision @ k, ndcg @ k\n",
    "    \"\"\"\n",
    "    # get embeddings\n",
    "    users_emb_final, users_emb_0, items_emb_final, items_emb_0 = model.forward(\n",
    "        sparse_edge_index)\n",
    "    edges = structured_negative_sampling(\n",
    "        edge_index, contains_neg_self_loops=False)\n",
    "    user_indices, pos_item_indices, neg_item_indices = edges[0], edges[1], edges[2]\n",
    "    users_emb_final, users_emb_0 = users_emb_final[user_indices], users_emb_0[user_indices]\n",
    "    pos_items_emb_final, pos_items_emb_0 = items_emb_final[\n",
    "        pos_item_indices], items_emb_0[pos_item_indices]\n",
    "    neg_items_emb_final, neg_items_emb_0 = items_emb_final[\n",
    "        neg_item_indices], items_emb_0[neg_item_indices]\n",
    "\n",
    "    loss = bpr_loss(users_emb_final, users_emb_0, pos_items_emb_final, pos_items_emb_0,\n",
    "                    neg_items_emb_final, neg_items_emb_0, lambda_val).item()\n",
    "\n",
    "    recall, precision, ndcg = get_metrics(\n",
    "        model, edge_index, exclude_edge_indices, k)\n",
    "\n",
    "    return loss, recall, precision, ndcg"
   ]
  },
  {
   "cell_type": "code",
   "execution_count": 17,
   "id": "fda11288",
   "metadata": {
    "ExecuteTime": {
     "end_time": "2022-12-01T17:13:43.749985Z",
     "start_time": "2022-12-01T17:13:43.731097Z"
    },
    "colab": {
     "base_uri": "https://localhost:8080/"
    },
    "id": "fda11288",
    "outputId": "5ff67f30-0056-4e67-dc2d-4f9aa838fc0e"
   },
   "outputs": [
    {
     "name": "stdout",
     "output_type": "stream",
     "text": [
      "Using device cuda.\n"
     ]
    }
   ],
   "source": [
    "# define contants\n",
    "ITERATIONS = 10000\n",
    "BATCH_SIZE = 1024\n",
    "LR = 1e-3\n",
    "ITERS_PER_EVAL = 200\n",
    "ITERS_PER_LR_DECAY = 200\n",
    "K = 20\n",
    "LAMBDA = 1e-6\n",
    "\n",
    "\n",
    "# setup\n",
    "device = torch.device('cuda' if torch.cuda.is_available() else 'cpu')\n",
    "print(f\"Using device {device}.\")\n",
    "\n",
    "\n",
    "model = model.to(device)\n",
    "model.train()\n",
    "\n",
    "optimizer = optim.Adam(model.parameters(), lr=LR)\n",
    "scheduler = optim.lr_scheduler.ExponentialLR(optimizer, gamma=0.95)\n",
    "\n",
    "edge_index = edge_index.to(device)\n",
    "train_edge_index = train_edge_index.to(device)\n",
    "train_sparse_edge_index = train_sparse_edge_index.to(device)\n",
    "\n",
    "val_edge_index = val_edge_index.to(device)\n",
    "val_sparse_edge_index = val_sparse_edge_index.to(device)"
   ]
  },
  {
   "cell_type": "code",
   "execution_count": 18,
   "id": "da7abfbf",
   "metadata": {
    "ExecuteTime": {
     "end_time": "2022-12-01T17:18:24.120917Z",
     "start_time": "2022-12-01T17:14:39.466476Z"
    },
    "colab": {
     "base_uri": "https://localhost:8080/"
    },
    "id": "da7abfbf",
    "outputId": "0d4efdff-bb0a-4234-a25b-fc328887de33",
    "scrolled": true
   },
   "outputs": [
    {
     "name": "stdout",
     "output_type": "stream",
     "text": [
      "[Iteration 0/10000] train_loss: -0.69101, val_loss: -0.67742, val_recall@20: 0.00377, val_precision@20: 0.00179, val_ndcg@20: 0.00425\n",
      "[Iteration 200/10000] train_loss: -0.69711, val_loss: -0.6826, val_recall@20: 0.04367, val_precision@20: 0.01976, val_ndcg@20: 0.03895\n",
      "[Iteration 400/10000] train_loss: -0.84651, val_loss: -0.77826, val_recall@20: 0.12503, val_precision@20: 0.05366, val_ndcg@20: 0.11022\n",
      "[Iteration 600/10000] train_loss: -1.64368, val_loss: -1.33377, val_recall@20: 0.12684, val_precision@20: 0.05784, val_ndcg@20: 0.11379\n",
      "[Iteration 800/10000] train_loss: -3.14163, val_loss: -2.44205, val_recall@20: 0.12888, val_precision@20: 0.05997, val_ndcg@20: 0.11373\n",
      "[Iteration 1000/10000] train_loss: -4.94419, val_loss: -3.84272, val_recall@20: 0.12879, val_precision@20: 0.06073, val_ndcg@20: 0.11551\n",
      "[Iteration 1200/10000] train_loss: -7.03282, val_loss: -5.37808, val_recall@20: 0.13007, val_precision@20: 0.06082, val_ndcg@20: 0.1152\n",
      "[Iteration 1400/10000] train_loss: -9.33255, val_loss: -7.02464, val_recall@20: 0.13147, val_precision@20: 0.06175, val_ndcg@20: 0.11584\n",
      "[Iteration 1600/10000] train_loss: -11.48206, val_loss: -8.72548, val_recall@20: 0.12985, val_precision@20: 0.06124, val_ndcg@20: 0.11529\n",
      "[Iteration 1800/10000] train_loss: -13.96531, val_loss: -10.37061, val_recall@20: 0.13124, val_precision@20: 0.06227, val_ndcg@20: 0.11648\n",
      "[Iteration 2000/10000] train_loss: -16.01422, val_loss: -12.06384, val_recall@20: 0.13164, val_precision@20: 0.06227, val_ndcg@20: 0.1169\n",
      "[Iteration 2200/10000] train_loss: -17.83375, val_loss: -13.64345, val_recall@20: 0.1321, val_precision@20: 0.06252, val_ndcg@20: 0.11737\n",
      "[Iteration 2400/10000] train_loss: -20.47725, val_loss: -15.50825, val_recall@20: 0.13072, val_precision@20: 0.06218, val_ndcg@20: 0.11639\n",
      "[Iteration 2600/10000] train_loss: -22.7757, val_loss: -17.12539, val_recall@20: 0.13069, val_precision@20: 0.06269, val_ndcg@20: 0.11654\n",
      "[Iteration 2800/10000] train_loss: -24.76426, val_loss: -18.51158, val_recall@20: 0.13039, val_precision@20: 0.0621, val_ndcg@20: 0.11633\n",
      "[Iteration 3000/10000] train_loss: -26.30256, val_loss: -20.25233, val_recall@20: 0.13151, val_precision@20: 0.06295, val_ndcg@20: 0.11705\n",
      "[Iteration 3200/10000] train_loss: -28.15788, val_loss: -21.91938, val_recall@20: 0.13094, val_precision@20: 0.06252, val_ndcg@20: 0.11698\n",
      "[Iteration 3400/10000] train_loss: -31.38187, val_loss: -23.12501, val_recall@20: 0.13225, val_precision@20: 0.06252, val_ndcg@20: 0.11693\n",
      "[Iteration 3600/10000] train_loss: -32.44891, val_loss: -24.69178, val_recall@20: 0.13165, val_precision@20: 0.06261, val_ndcg@20: 0.1168\n",
      "[Iteration 3800/10000] train_loss: -34.2895, val_loss: -26.27831, val_recall@20: 0.13171, val_precision@20: 0.06261, val_ndcg@20: 0.11684\n",
      "[Iteration 4000/10000] train_loss: -35.56781, val_loss: -27.43855, val_recall@20: 0.13181, val_precision@20: 0.06244, val_ndcg@20: 0.11699\n",
      "[Iteration 4200/10000] train_loss: -37.15168, val_loss: -28.57043, val_recall@20: 0.13193, val_precision@20: 0.06269, val_ndcg@20: 0.11713\n",
      "[Iteration 4400/10000] train_loss: -39.34532, val_loss: -30.11865, val_recall@20: 0.13142, val_precision@20: 0.06269, val_ndcg@20: 0.11675\n",
      "[Iteration 4600/10000] train_loss: -41.39471, val_loss: -31.30754, val_recall@20: 0.13135, val_precision@20: 0.06261, val_ndcg@20: 0.11644\n",
      "[Iteration 4800/10000] train_loss: -43.79574, val_loss: -31.89469, val_recall@20: 0.13081, val_precision@20: 0.06269, val_ndcg@20: 0.1163\n",
      "[Iteration 5000/10000] train_loss: -43.24469, val_loss: -33.27866, val_recall@20: 0.13119, val_precision@20: 0.06269, val_ndcg@20: 0.11646\n",
      "[Iteration 5200/10000] train_loss: -47.89645, val_loss: -34.5009, val_recall@20: 0.13107, val_precision@20: 0.06252, val_ndcg@20: 0.11649\n",
      "[Iteration 5400/10000] train_loss: -47.60885, val_loss: -35.09297, val_recall@20: 0.1311, val_precision@20: 0.06269, val_ndcg@20: 0.11652\n",
      "[Iteration 5600/10000] train_loss: -47.0636, val_loss: -36.47549, val_recall@20: 0.1311, val_precision@20: 0.06252, val_ndcg@20: 0.1164\n",
      "[Iteration 5800/10000] train_loss: -50.90355, val_loss: -36.98544, val_recall@20: 0.13043, val_precision@20: 0.06244, val_ndcg@20: 0.11618\n",
      "[Iteration 6000/10000] train_loss: -54.60961, val_loss: -38.31458, val_recall@20: 0.1314, val_precision@20: 0.06252, val_ndcg@20: 0.11641\n",
      "[Iteration 6200/10000] train_loss: -50.72999, val_loss: -39.10024, val_recall@20: 0.13152, val_precision@20: 0.06269, val_ndcg@20: 0.11657\n",
      "[Iteration 6400/10000] train_loss: -52.87162, val_loss: -39.72508, val_recall@20: 0.13145, val_precision@20: 0.06269, val_ndcg@20: 0.11676\n",
      "[Iteration 6600/10000] train_loss: -53.11587, val_loss: -40.7336, val_recall@20: 0.13161, val_precision@20: 0.06278, val_ndcg@20: 0.11687\n",
      "[Iteration 6800/10000] train_loss: -57.51073, val_loss: -41.17465, val_recall@20: 0.13135, val_precision@20: 0.06261, val_ndcg@20: 0.11673\n",
      "[Iteration 7000/10000] train_loss: -53.78336, val_loss: -42.02095, val_recall@20: 0.13135, val_precision@20: 0.06261, val_ndcg@20: 0.11672\n",
      "[Iteration 7200/10000] train_loss: -55.79352, val_loss: -42.92035, val_recall@20: 0.13132, val_precision@20: 0.06261, val_ndcg@20: 0.11669\n",
      "[Iteration 7400/10000] train_loss: -57.09275, val_loss: -42.88343, val_recall@20: 0.13132, val_precision@20: 0.06261, val_ndcg@20: 0.11671\n",
      "[Iteration 7600/10000] train_loss: -60.04409, val_loss: -43.99102, val_recall@20: 0.13129, val_precision@20: 0.06252, val_ndcg@20: 0.11668\n",
      "[Iteration 7800/10000] train_loss: -57.11601, val_loss: -43.96361, val_recall@20: 0.13145, val_precision@20: 0.06261, val_ndcg@20: 0.11674\n",
      "[Iteration 8000/10000] train_loss: -59.7521, val_loss: -44.93956, val_recall@20: 0.13164, val_precision@20: 0.06286, val_ndcg@20: 0.11693\n",
      "[Iteration 8200/10000] train_loss: -61.08552, val_loss: -45.88552, val_recall@20: 0.1317, val_precision@20: 0.06286, val_ndcg@20: 0.11694\n",
      "[Iteration 8400/10000] train_loss: -61.67739, val_loss: -46.26383, val_recall@20: 0.13174, val_precision@20: 0.06295, val_ndcg@20: 0.11697\n",
      "[Iteration 8600/10000] train_loss: -60.75841, val_loss: -46.51171, val_recall@20: 0.13171, val_precision@20: 0.06295, val_ndcg@20: 0.11699\n",
      "[Iteration 8800/10000] train_loss: -59.83143, val_loss: -46.90113, val_recall@20: 0.1316, val_precision@20: 0.06278, val_ndcg@20: 0.11684\n",
      "[Iteration 9000/10000] train_loss: -62.59624, val_loss: -47.24265, val_recall@20: 0.13136, val_precision@20: 0.06261, val_ndcg@20: 0.11673\n",
      "[Iteration 9200/10000] train_loss: -63.26089, val_loss: -47.85323, val_recall@20: 0.13171, val_precision@20: 0.06295, val_ndcg@20: 0.11701\n",
      "[Iteration 9400/10000] train_loss: -61.37645, val_loss: -47.78276, val_recall@20: 0.13171, val_precision@20: 0.06295, val_ndcg@20: 0.11698\n",
      "[Iteration 9600/10000] train_loss: -64.73482, val_loss: -48.5055, val_recall@20: 0.1313, val_precision@20: 0.06269, val_ndcg@20: 0.11682\n",
      "[Iteration 9800/10000] train_loss: -65.31081, val_loss: -48.59717, val_recall@20: 0.13154, val_precision@20: 0.06286, val_ndcg@20: 0.11698\n"
     ]
    }
   ],
   "source": [
    "# training loop\n",
    "train_losses = []\n",
    "val_losses = []\n",
    "\n",
    "for _iter in range(ITERATIONS):\n",
    "    # forward propagation\n",
    "    users_emb_final, users_emb_0, items_emb_final, items_emb_0 = model.forward(\n",
    "        train_sparse_edge_index)\n",
    "\n",
    "    # mini batching\n",
    "    user_indices, pos_item_indices, neg_item_indices = sample_mini_batch(\n",
    "        BATCH_SIZE, train_edge_index)\n",
    "    user_indices, pos_item_indices, neg_item_indices = user_indices.to(\n",
    "        device), pos_item_indices.to(device), neg_item_indices.to(device)\n",
    "    users_emb_final, users_emb_0 = users_emb_final[user_indices], users_emb_0[user_indices]\n",
    "    pos_items_emb_final, pos_items_emb_0 = items_emb_final[\n",
    "        pos_item_indices], items_emb_0[pos_item_indices]\n",
    "    neg_items_emb_final, neg_items_emb_0 = items_emb_final[\n",
    "        neg_item_indices], items_emb_0[neg_item_indices]\n",
    "\n",
    "    # loss computation\n",
    "    train_loss = bpr_loss(users_emb_final, users_emb_0, pos_items_emb_final,\n",
    "                          pos_items_emb_0, neg_items_emb_final, neg_items_emb_0, LAMBDA)\n",
    "\n",
    "    optimizer.zero_grad()\n",
    "    train_loss.backward()\n",
    "    optimizer.step()\n",
    "\n",
    "    if _iter % ITERS_PER_EVAL == 0:\n",
    "        model.eval()\n",
    "        val_loss, recall, precision, ndcg = evaluation(\n",
    "            model, val_edge_index, val_sparse_edge_index, [train_edge_index], K, LAMBDA)\n",
    "        print(f\"[Iteration {_iter}/{ITERATIONS}] train_loss: {round(train_loss.item(), 5)}, val_loss: {round(val_loss, 5)}, val_recall@{K}: {round(recall, 5)}, val_precision@{K}: {round(precision, 5)}, val_ndcg@{K}: {round(ndcg, 5)}\")\n",
    "        train_losses.append(train_loss.item())\n",
    "        val_losses.append(val_loss)\n",
    "        model.train()\n",
    "\n",
    "    if _iter % ITERS_PER_LR_DECAY == 0 and _iter != 0:\n",
    "        scheduler.step()"
   ]
  },
  {
   "cell_type": "code",
   "execution_count": 19,
   "id": "830335a8",
   "metadata": {
    "ExecuteTime": {
     "end_time": "2022-12-01T17:18:34.566822Z",
     "start_time": "2022-12-01T17:18:34.409564Z"
    },
    "colab": {
     "base_uri": "https://localhost:8080/",
     "height": 872
    },
    "id": "830335a8",
    "outputId": "49438175-b66a-4016-ba9b-2be00afc24a5"
   },
   "outputs": [
    {
     "data": {
      "image/png": "[encoded data removed]",
      "text/plain": [
       "<Figure size 1500x1000 with 1 Axes>"
      ]
     },
     "metadata": {},
     "output_type": "display_data"
    }
   ],
   "source": [
    "iters = [iter * ITERS_PER_EVAL for iter in range(len(train_losses))]\n",
    "plt.figure(figsize=(15, 10))\n",
    "plt.plot(iters, train_losses, label='train')\n",
    "plt.plot(iters, val_losses, label='validation')\n",
    "plt.xlabel('iteration')\n",
    "plt.ylabel('loss')\n",
    "plt.title('Training and validation loss curves')\n",
    "plt.legend()\n",
    "plt.show()"
   ]
  },
  {
   "cell_type": "code",
   "execution_count": 20,
   "id": "ea788c93",
   "metadata": {
    "ExecuteTime": {
     "end_time": "2022-12-01T17:18:55.115082Z",
     "start_time": "2022-12-01T17:18:54.463277Z"
    },
    "colab": {
     "base_uri": "https://localhost:8080/"
    },
    "id": "ea788c93",
    "outputId": "c8c5335a-c3e6-48eb-fb46-e3a7797be102"
   },
   "outputs": [
    {
     "name": "stdout",
     "output_type": "stream",
     "text": [
      "[test_loss: -48.94096, test_recall@20: 0.13006, test_precision@20: 0.06343, test_ndcg@20: 0.1177\n"
     ]
    }
   ],
   "source": [
    "# evaluate on test set\n",
    "model.eval()\n",
    "test_edge_index = test_edge_index.to(device)\n",
    "test_sparse_edge_index = test_sparse_edge_index.to(device)\n",
    "\n",
    "test_loss, test_recall, test_precision, test_ndcg = evaluation(\n",
    "            model, test_edge_index, test_sparse_edge_index,[train_edge_index, val_edge_index], K, LAMBDA)\n",
    "\n",
    "print(f\"[test_loss: {round(test_loss, 5)}, test_recall@{K}: {round(test_recall, 5)}, test_precision@{K}: {round(test_precision, 5)}, test_ndcg@{K}: {round(test_ndcg, 5)}\")"
   ]
  },
  {
   "cell_type": "code",
   "execution_count": 21,
   "id": "3b9cdb94",
   "metadata": {
    "ExecuteTime": {
     "end_time": "2022-12-01T17:19:01.497524Z",
     "start_time": "2022-12-01T17:19:01.111085Z"
    },
    "id": "3b9cdb94"
   },
   "outputs": [],
   "source": [
    "model.eval()\n",
    "df = pd.read_csv(movie_path)\n",
    "movieid_title = pd.Series(df.title.values,index=df.movieId).to_dict()\n",
    "movieid_genres = pd.Series(df.genres.values,index=df.movieId).to_dict()\n",
    "\n",
    "user_pos_items = get_user_positive_items(edge_index)"
   ]
  },
  {
   "cell_type": "code",
   "execution_count": 22,
   "id": "e9334b6c",
   "metadata": {
    "ExecuteTime": {
     "end_time": "2022-12-01T17:19:20.940577Z",
     "start_time": "2022-12-01T17:19:20.925123Z"
    },
    "id": "e9334b6c"
   },
   "outputs": [],
   "source": [
    "def make_predictions(user_id, num_recs):\n",
    "    user = user_mapping[user_id]\n",
    "    e_u = model.users_emb.weight[user]\n",
    "    scores = model.items_emb.weight @ e_u\n",
    "\n",
    "    values, indices = torch.topk(scores, k=len(user_pos_items[user]) + num_recs)\n",
    "\n",
    "    movies = [index.cpu().item() for index in indices if index in user_pos_items[user]][:num_recs]\n",
    "    movie_ids = [list(movie_mapping.keys())[list(movie_mapping.values()).index(movie)] for movie in movies]\n",
    "    titles = [movieid_title[id] for id in movie_ids]\n",
    "    genres = [movieid_genres[id] for id in movie_ids]\n",
    "\n",
    "    print(f\"Here are some movies that user {user_id} rated highly\")\n",
    "    for i in range(num_recs):\n",
    "        print(f\"title: {titles[i]}, genres: {genres[i]} \")\n",
    "\n",
    "    print()\n",
    "\n",
    "    movies = [index.cpu().item() for index in indices if index not in user_pos_items[user]][:num_recs]\n",
    "    movie_ids = [list(movie_mapping.keys())[list(movie_mapping.values()).index(movie)] for movie in movies]\n",
    "    titles = [movieid_title[id] for id in movie_ids]\n",
    "    genres = [movieid_genres[id] for id in movie_ids]\n",
    "\n",
    "    print(f\"Here are some suggested movies for user {user_id}\")\n",
    "    for i in range(num_recs):\n",
    "        print(f\"title: {titles[i]}, genres: {genres[i]} \")"
   ]
  },
  {
   "cell_type": "code",
   "execution_count": 23,
   "id": "de5d89a0",
   "metadata": {
    "ExecuteTime": {
     "end_time": "2022-12-01T17:20:07.599641Z",
     "start_time": "2022-12-01T17:20:07.541688Z"
    },
    "colab": {
     "base_uri": "https://localhost:8080/"
    },
    "id": "de5d89a0",
    "outputId": "bc793510-2c08-48f4-cba7-78a76d8a9108"
   },
   "outputs": [
    {
     "name": "stdout",
     "output_type": "stream",
     "text": [
      "Here are some movies that user 10 rated highly\n",
      "title: Forrest Gump (1994), genres: Comedy|Drama|Romance|War \n",
      "title: Lord of the Rings: The Fellowship of the Ring, The (2001), genres: Adventure|Fantasy \n",
      "title: Aladdin (1992), genres: Adventure|Animation|Children|Comedy|Musical \n",
      "title: Lord of the Rings: The Two Towers, The (2002), genres: Adventure|Fantasy \n",
      "title: Lord of the Rings: The Return of the King, The (2003), genres: Action|Adventure|Drama|Fantasy \n",
      "\n",
      "Here are some suggested movies for user 10\n",
      "title: Shawshank Redemption, The (1994), genres: Crime|Drama \n",
      "title: Pulp Fiction (1994), genres: Comedy|Crime|Drama|Thriller \n",
      "title: Star Wars: Episode IV - A New Hope (1977), genres: Action|Adventure|Sci-Fi \n",
      "title: Matrix, The (1999), genres: Action|Sci-Fi|Thriller \n",
      "title: Silence of the Lambs, The (1991), genres: Crime|Horror|Thriller \n"
     ]
    }
   ],
   "source": [
    "USER_ID = 10\n",
    "NUM_RECS = 5\n",
    "\n",
    "make_predictions(USER_ID, NUM_RECS)"
   ]
  },
  {
   "cell_type": "code",
   "execution_count": 23,
   "id": "aa10813c",
   "metadata": {
    "id": "aa10813c"
   },
   "outputs": [],
   "source": []
  }
 ],
 "metadata": {
  "accelerator": "GPU",
  "colab": {
   "gpuType": "T4",
   "provenance": []
  },
  "kernelspec": {
   "display_name": "Python 3 (ipykernel)",
   "language": "python",
   "name": "python3"
  },
  "language_info": {
   "codemirror_mode": {
    "name": "ipython",
    "version": 3
   },
   "file_extension": ".py",
   "mimetype": "text/x-python",
   "name": "python",
   "nbconvert_exporter": "python",
   "pygments_lexer": "ipython3",
   "version": "3.13.2"
  }
 },
 "nbformat": 4,
 "nbformat_minor": 5
}
