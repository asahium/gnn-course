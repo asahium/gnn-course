{
 "cells": [
  {
   "cell_type": "markdown",
   "id": "85426f5a",
   "metadata": {
    "id": "85426f5a"
   },
   "source": [
    "# Practice HW 2"
   ]
  },
  {
   "cell_type": "code",
   "execution_count": null,
   "id": "41d0553e",
   "metadata": {
    "id": "41d0553e"
   },
   "outputs": [],
   "source": [
    "# import torch\n",
    "\n",
    "# !pip uninstall torch-scatter torch-sparse torch-geometric torch-cluster  --y\n",
    "# !pip install torch-scatter -f https://data.pyg.org/whl/torch-{torch.__version__}.html\n",
    "# !pip install torch-sparse -f https://data.pyg.org/whl/torch-{torch.__version__}.html\n",
    "# !pip install torch-cluster -f https://data.pyg.org/whl/torch-{torch.__version__}.html\n",
    "# !pip install git+https://github.com/pyg-team/pytorch_geometric.git"
   ]
  },
  {
   "cell_type": "markdown",
   "id": "35463c99",
   "metadata": {
    "id": "35463c99"
   },
   "source": [
    "## 1. Implementation of TransE (10 points)\n",
    "\n",
    "In this assignment, you need to implement a training pipeline for learning **knowledge graph embeddings** using [TransE](https://proceedings.neurips.cc/paper/2013/file/1cecc7a77928ca8133fa24680a88d2f9-Paper.pdf) for the task of **predicting missing edges** on the [Freebase](https://paperswithcode.com/dataset/fb15k) (FB15k-237) dataset, as well as implement the model itself."
   ]
  },
  {
   "cell_type": "code",
   "execution_count": null,
   "id": "c5a2166d",
   "metadata": {
    "ExecuteTime": {
     "end_time": "2022-11-28T16:38:28.749186Z",
     "start_time": "2022-11-28T16:38:28.620681Z"
    },
    "id": "c5a2166d"
   },
   "outputs": [],
   "source": [
    "import torch_geometric\n",
    "from torch_geometric.datasets.rel_link_pred_dataset import RelLinkPredDataset\n",
    "\n",
    "\n",
    "dataset = RelLinkPredDataset('data', 'FB15k-237')\n",
    "data = dataset[0]"
   ]
  },
  {
   "cell_type": "markdown",
   "id": "ee68c8b9",
   "metadata": {
    "id": "ee68c8b9"
   },
   "source": [
    "### TransE\n",
    "\n",
    "Edges in the knowledge graph are represented as triples \\((h, r, t)\\). In **TransE**, we model both objects and relationships in the embedding space and try to obtain embeddings as  \n",
    "\n",
    "$$\\mathbf{h} + \\mathbf{l} \\approx \\mathbf{t}$$\n",
    "\n",
    "Formally, the loss looks like:\n",
    "\n",
    "$$\\sum_{((h, l, t), (h', l, t') \\in T_{batch}} [\\gamma + d(\\mathbf{h} + \\mathbf{l}, \\mathbf{t}) - d(\\mathbf{h'} + \\mathbf{l}, \\mathbf{t'})]$$\n",
    "\n",
    "where $(h', l, t')$ represents a triple, replacing the head or tail with a random object.  \n",
    "$d(\\mathbf{h} + \\mathbf{l}, \\mathbf{t})$ is the **difference** measure of the positive edge.  \n",
    "Besides, $d(\\mathbf{h'} + \\mathbf{l}, \\mathbf{t'})$ is the **difference** estimate for the negative triple, obtained by changing either the head or the tail (but not both) of the positive triple.  \n",
    "\n",
    "Thus, **TransE prefers lower scores for positive edges and higher scores for negative edges**.\n",
    "\n",
    "Regarding the parameter $\\gamma$, it is used to ensure that the positive edge score differs from the negative edge score by at least $\\gamma$.\n",
    "\n",
    "#### TransE Algorithm\n",
    "\n",
    "The TransE algorithm is as follows:\n",
    "\n",
    "![](https://production-media.paperswithcode.com/methods/Screen_Shot_2020-05-27_at_12.01.23_AM.png)\n",
    "\n",
    "#### Implementation of the Model\n",
    "\n",
    "According to the pseudocode above, you can initialize $\\mathbf{l}$ and $\\mathbf{e}$.  \n",
    "To compute $d(\\mathbf{h} + \\mathbf{l}, \\mathbf{t})$, take the **L2 norm** of $\\mathbf{h} + \\mathbf{l} - \\mathbf{t}$.\n",
    "\n",
    "*Note: To improve performance, normalize $\\mathbf{e}$ every epoch instead of every mini-batch.*"
   ]
  },
  {
   "cell_type": "markdown",
   "id": "cdea747a",
   "metadata": {
    "id": "cdea747a"
   },
   "source": [
    "**Auxiliary Functions:**  \n",
    "\n",
    "One of the key aspects of training the model is generating **corrupted triples** by replacing the **head** or **tail** with a random object."
   ]
  },
  {
   "cell_type": "code",
   "execution_count": null,
   "id": "ecfe5efd",
   "metadata": {
    "ExecuteTime": {
     "end_time": "2022-11-28T15:59:33.777084Z",
     "start_time": "2022-11-28T15:59:33.771787Z"
    },
    "id": "ecfe5efd"
   },
   "outputs": [],
   "source": [
    "def create_neg_edge_index(edge_index, edge_type, num_entities):\n",
    "    head_or_tail = torch.randint(high=2, size=edge_type.size(),\n",
    "                                 device=device)\n",
    "    rand_entities = torch.randint(high=num_entities,\n",
    "                                  size=edge_type.size(), device=device)\n",
    "    # change when 1, otherwise regular head\n",
    "    heads = torch.where(head_or_tail == 1, rand_entities,\n",
    "                        edge_index[0, :])\n",
    "    # change when 0, otherwise regular tail\n",
    "    tails = torch.where(head_or_tail == 0, rand_entities,\n",
    "                        edge_index[1, :])\n",
    "    return torch.stack([heads, tails], dim=0)"
   ]
  },
  {
   "cell_type": "markdown",
   "id": "0afac228",
   "metadata": {
    "id": "0afac228"
   },
   "source": [
    "We will evaluate the model's performance using **Hits@10, Mean Rank, and MRR (Mean Reciprocal Rank)**.\n",
    "\n",
    "- **Hits@10**:  \n",
    "  $$\\frac{|\\{r \\in P | r \\leq 10\\}|}{|P|}$$\n",
    "  where \\( |P| \\) is the number of rankings, and \\( r \\) is the rank. This metric measures the percentage of correct entities ranked within the top 10.\n",
    "\n",
    "- **Mean Rank**:  \n",
    "  $$\\frac{1}{|P|}\\sum_{r \\in P}r$$\n",
    "  This metric calculates the average rank of the correct entities.\n",
    "\n",
    "- **MRR (Mean Reciprocal Rank)**:  \n",
    "  $$\\frac{1}{|P|}\\sum_{r \\in P}\\frac{1}{r}$$\n",
    "  This metric evaluates ranking quality by considering the inverse of the rank, giving higher importance to top-ranked correct entities.\n",
    "\n",
    "For more details on these metrics, refer to [this paper](https://arxiv.org/pdf/2002.06914.pdf)."
   ]
  },
  {
   "cell_type": "code",
   "execution_count": null,
   "id": "2e064eec",
   "metadata": {
    "ExecuteTime": {
     "end_time": "2022-11-28T15:59:34.258096Z",
     "start_time": "2022-11-28T15:59:34.249708Z"
    },
    "id": "2e064eec"
   },
   "outputs": [],
   "source": [
    "def mrr(predictions, gt):\n",
    "    indices = predictions.argsort()\n",
    "    return (1.0 / (indices == gt).nonzero()[:, 1].float().add(1.0)).sum().item()\n",
    "\n",
    "\n",
    "def mr(predictions, gt):\n",
    "    indices = predictions.argsort()\n",
    "    return ((indices == gt).nonzero()[:, 1].float().add(1.0)).sum().item()\n",
    "\n",
    "\n",
    "def hit_at_k(predictions, gt, device, k=10):\n",
    "    zero_tensor = torch.tensor([0], device=device)\n",
    "    one_tensor = torch.tensor([1], device=device)\n",
    "    _, indices = predictions.topk(k=k, largest=False)\n",
    "    return torch.where(indices == gt, one_tensor, zero_tensor).sum().item()"
   ]
  },
  {
   "cell_type": "markdown",
   "id": "2193ce2f",
   "metadata": {
    "id": "2193ce2f"
   },
   "source": [
    "**Requirement:**  \n",
    "\n",
    "Achieve at least **0.17 MRR** and **0.30 Hits@10** to meet the performance threshold."
   ]
  },
  {
   "cell_type": "code",
   "execution_count": null,
   "id": "c1a31ef0",
   "metadata": {
    "id": "c1a31ef0"
   },
   "outputs": [],
   "source": []
  },
  {
   "cell_type": "markdown",
   "id": "dqZlPjwNyac_",
   "metadata": {
    "id": "dqZlPjwNyac_"
   },
   "source": [
    "## 1.1 Question on Normalization (2 points) "
   ]
  },
  {
   "cell_type": "markdown",
   "id": "_ZnyvNQdy-SH",
   "metadata": {
    "id": "_ZnyvNQdy-SH"
   },
   "source": [
    "Try training **TransE** **without the fifth line of the algorithm** (without normalization by entities). **What happens to the training?** **Why is this line needed?**"
   ]
  },
  {
   "cell_type": "markdown",
   "id": "2767859c",
   "metadata": {
    "id": "2767859c"
   },
   "source": [
    "## 2. Neural Network on Heterogeneous Data (3 points)"
   ]
  },
  {
   "cell_type": "markdown",
   "id": "LFkv3s8sykyG",
   "metadata": {
    "id": "LFkv3s8sykyG"
   },
   "source": [
    "Take one of the two datasets (**Freebase** / synthetic dataset **hetero_graph** below)."
   ]
  },
  {
   "cell_type": "code",
   "execution_count": null,
   "id": "deGDhKWeCi3k",
   "metadata": {
    "id": "deGDhKWeCi3k"
   },
   "outputs": [],
   "source": [
    "import numpy as np\n",
    "import torch\n",
    "\n",
    "n_users = 1000\n",
    "n_items = 500\n",
    "n_follows = 3000\n",
    "n_clicks = 5000\n",
    "n_dislikes = 500\n",
    "n_hetero_features = 10\n",
    "n_user_classes = 5\n",
    "n_max_clicks = 10\n",
    "\n",
    "follow_src = np.random.randint(0, n_users, n_follows)\n",
    "follow_dst = np.random.randint(0, n_users, n_follows)\n",
    "click_src = np.random.randint(0, n_users, n_clicks)\n",
    "click_dst = np.random.randint(0, n_items, n_clicks)\n",
    "dislike_src = np.random.randint(0, n_users, n_dislikes)\n",
    "dislike_dst = np.random.randint(0, n_items, n_dislikes)\n",
    "\n",
    "hetero_graph = dgl.heterograph({\n",
    "    ('user', 'follow', 'user'): (follow_src, follow_dst),\n",
    "    ('user', 'followed-by', 'user'): (follow_dst, follow_src),\n",
    "    ('user', 'click', 'item'): (click_src, click_dst),\n",
    "    ('item', 'clicked-by', 'user'): (click_dst, click_src),\n",
    "    ('user', 'dislike', 'item'): (dislike_src, dislike_dst),\n",
    "    ('item', 'disliked-by', 'user'): (dislike_dst, dislike_src)})\n",
    "\n",
    "hetero_graph.nodes['user'].data['feature'] = torch.randn(n_users, n_hetero_features)\n",
    "hetero_graph.nodes['item'].data['feature'] = torch.randn(n_items, n_hetero_features)\n",
    "hetero_graph.nodes['user'].data['label'] = torch.randint(0, n_user_classes, (n_users,))\n",
    "hetero_graph.edges['click'].data['label'] = torch.randint(1, n_max_clicks, (n_clicks,)).float()\n",
    "# randomly generate training masks on user nodes and click edges\n",
    "hetero_graph.nodes['user'].data['train_mask'] = torch.zeros(n_users, dtype=torch.bool).bernoulli(0.6)\n",
    "hetero_graph.edges['click'].data['train_mask'] = torch.zeros(n_clicks, dtype=torch.bool).bernoulli(0.6)"
   ]
  },
  {
   "cell_type": "markdown",
   "id": "vOwWWxfCDPEK",
   "metadata": {
    "id": "vOwWWxfCDPEK"
   },
   "source": [
    "Using any library (**torch_geometric**, **DGL**, **StellarGraph**), build a neural network and train it to solve the **Node Classification** task on one of the two datasets mentioned above.  \n",
    "\n",
    "---\n",
    "\n",
    "### Bonuses:  \n",
    "- **(+3 points)** Train the neural network to solve the **Link Prediction** task.  \n",
    "- **(+2 point)** Use **another heterogeneous dataset** (not small and not synthetic) and train the model on it.  \n",
    "- **(+5 points)** Implement **Relational GCN (R-GCN)** yourself and demonstrate the functionality of your layer."
   ]
  },
  {
   "cell_type": "code",
   "execution_count": null,
   "id": "T-QdveYJDaUY",
   "metadata": {
    "id": "T-QdveYJDaUY"
   },
   "outputs": [],
   "source": []
  }
 ],
 "metadata": {
  "colab": {
   "provenance": []
  },
  "kernelspec": {
   "display_name": "Python 3 (ipykernel)",
   "language": "python",
   "name": "python3"
  },
  "language_info": {
   "codemirror_mode": {
    "name": "ipython",
    "version": 3
   },
   "file_extension": ".py",
   "mimetype": "text/x-python",
   "name": "python",
   "nbconvert_exporter": "python",
   "pygments_lexer": "ipython3",
   "version": "3.13.2"
  }
 },
 "nbformat": 4,
 "nbformat_minor": 5
}
